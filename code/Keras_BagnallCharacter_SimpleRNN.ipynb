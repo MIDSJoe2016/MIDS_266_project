{
 "cells": [
  {
   "cell_type": "code",
   "execution_count": 1,
   "metadata": {
    "collapsed": true
   },
   "outputs": [],
   "source": [
    "# Include so results on different machines are (should be) the same.\n",
    "import numpy as np\n",
    "from numpy.random import seed\n",
    "seed(1)\n",
    "\n",
    "from tensorflow import set_random_seed\n",
    "set_random_seed(2)\n",
    "\n",
    "import random as rn\n",
    "rn.seed(3)"
   ]
  },
  {
   "cell_type": "code",
   "execution_count": 2,
   "metadata": {},
   "outputs": [
    {
     "name": "stdout",
     "output_type": "stream",
     "text": [
      "[NbConvertApp] Converting notebook Keras_BagnallCharacter_SimpleRNN.ipynb to script\n",
      "[NbConvertApp] Writing 14529 bytes to Keras_BagnallCharacter_SimpleRNN.py\n"
     ]
    }
   ],
   "source": [
    "!jupyter nbconvert --to script Keras_BagnallCharacter_SimpleRNN.ipynb"
   ]
  },
  {
   "cell_type": "code",
   "execution_count": 60,
   "metadata": {},
   "outputs": [
    {
     "name": "stdout",
     "output_type": "stream",
     "text": [
      "Loaded 47 speeches for 14 presidents.\n",
      "Loaded 1764 speeches for 15 presidents.\n"
     ]
    }
   ],
   "source": [
    "import glob, os, json, re, unicodedata\n",
    "from bs4 import BeautifulSoup\n",
    "\n",
    "load_verbose = 0\n",
    "loaded_labels = []\n",
    "loaded_text = []\n",
    "presidents = [\n",
    "    \"Barack Obama\",\n",
    "    \"Donald J. Trump\",\n",
    "    \"Dwight D. Eisenhower\",\n",
    "    \"Franklin D. Roosevelt\",\n",
    "    \"George Bush\",\n",
    "    \"George W. Bush\",\n",
    "    \"Gerald R. Ford\",\n",
    "    \"Harry S. Truman\",\n",
    "    \"Herbert Hoover\",\n",
    "    \"Jimmy Carter\",\n",
    "    \"John F. Kennedy\",\n",
    "    \"Lyndon B. Johnson\",\n",
    "    \"Richard Nixon\",\n",
    "    \"Ronald Reagan\",\n",
    "    \"William J. Clinton\"\n",
    "]\n",
    "\n",
    "labels = {}\n",
    "for idx, name in enumerate(presidents):\n",
    "    labels[name] = idx\n",
    "\n",
    "# load raw text files straight in, no parsing\n",
    "file_to_label = {\n",
    "    \"Obama\": \"Barack Obama\",\n",
    "    \"Trump\": \"Donald J. Trump\",\n",
    "    \"Eisenhower\": \"Dwight D. Eisenhower\",\n",
    "    \"Roosevelt\": \"Franklin D. Roosevelt\",\n",
    "    \"Bush\": \"George Bush\",\n",
    "    \"WBush\": \"George W. Bush\",\n",
    "    \"Ford\": \"Gerald R. Ford\",\n",
    "    \"Truman\": \"Harry S. Truman\",\n",
    "    \"Hoover\": \"Herbert Hoover\",\n",
    "    \"Carter\": \"Jimmy Carter\",\n",
    "    \"Kennedy\": \"John F. Kennedy\",\n",
    "    \"Johnson\": \"Lyndon B. Johnson\",\n",
    "    \"Nixon\": \"Richard Nixon\",\n",
    "    \"Reagan\": \"Ronald Reagan\",\n",
    "    \"Clinton\": \"William J. Clinton\"\n",
    "}\n",
    "\n",
    "directory = \"../data/processed/\"\n",
    "for filename in glob.glob(os.path.join(directory, '*.txt')):\n",
    "    arr = filename.replace(directory,'').split(\"_\")\n",
    "    if any(prefix in arr[0] for prefix in file_to_label.keys()):\n",
    "        loaded_labels = loaded_labels + [labels[file_to_label[arr[0]]]]\n",
    "        raw = open(filename).read().decode(\"UTF-8\").encode(\"ascii\",\"ignore\")\n",
    "        loaded_text = loaded_text + [raw] \n",
    "\n",
    "\n",
    "print \"Loaded\", len(loaded_text), \"speeches for\", len(set(loaded_labels)), \"presidents.\"\n",
    "# processed2 now contains files generated from unprocessed\n",
    "directory = \"../data/processed3/\"\n",
    "for filename in glob.glob(os.path.join(directory, '*.txt')):\n",
    "    arr = filename.replace(directory,'').split(\"_\")\n",
    "    if any(prefix in arr[0] for prefix in file_to_label.keys()):\n",
    "        loaded_labels = loaded_labels + [labels[file_to_label[arr[0]]]]\n",
    "        raw = open(filename).read().decode(\"UTF-8\").encode(\"ascii\",\"ignore\")\n",
    "        loaded_text = loaded_text + [raw] \n",
    "\n",
    "print \"Loaded\", len(loaded_text), \"speeches for\", len(set(loaded_labels)), \"presidents.\""
   ]
  },
  {
   "cell_type": "code",
   "execution_count": 21,
   "metadata": {},
   "outputs": [
    {
     "name": "stdout",
     "output_type": "stream",
     "text": [
      "[('APPALACHIAN', 1), ('Carmelo', 1), ('HARRY', 1), ('Warburg', 1), ('Fourteenth', 1), ('HOLMES', 1), (\"'18\", 1), ('Barranquilla', 1), ('Gates/Iraq', 1), ('Proposition', 1), ('Mario', 1), ('Rashid', 1), ('STIMULUS', 1), ('HER', 1), ('Bailout', 1), ('Ricky', 1), ('Writer', 1), ('Goldner', 1), ('Departments-Army', 1), ('INCURSION', 1), ('Ter', 1), ('TORRIJOS', 1), ('Quezon', 1), ('Kitona', 1), ('September-so', 1), ('Sills', 1), ('Anastasio', 1), ('Penultimate', 1), ('EFPs', 1), ('Silly', 1), ('MANAGUA', 1), ('Except', 1), ('Amtorg', 1), ('Shipman', 1), ('Condition', 1), ('Vern', 1), ('Ordinance', 1), ('Anywhere', 1), ('Rochambeau', 1), ('Upon', 1), ('Warlick', 1), ('Seamen', 1), ('Spears', 1), ('Along', 1), ('Clashes', 1), ('Marseilles', 1), ('Group/U.S', 1), ('RADIATION', 1), ('DEPUTY', 1), ('Portrait', 1), ('Halleck', 1), ('Appropriations-I', 1), ('Brownsville', 1), ('Antiapartheid', 1), ('Macs', 1), ('Dollars', 1), ('ATTICA', 1), ('Population', 1), ('States-Mexico', 1), ('Process/Iran', 1), ('ALL-ASIAN', 1), ('ELECTRONIC', 1), ('NORAD', 1), ('Appropriations/War', 1), ('Abhorring', 1), ('Rabi', 1), ('Sur', 1), ('Gainesville', 1), ('Literacy', 1), ('Safeguarding', 1), ('Clubs', 1), ('Honey', 1), ('Marie', 1), ('Sakharovs', 1), ('PLANNING', 1), ('PROVE', 1), ('VIET-NA', 1), ('MINING', 1), ('Shaler', 1), ('Statesman', 1), ('Hajj', 1), ('Painless', 1), ('BUGGING', 1), ('Tombigbees', 1), ('Beggs', 1), ('Brutality/President', 1), ('REBOZO', 1), ('Bonham', 1), ('REPAIR', 1), ('ARM', 1), ('ARE', 1), ('TRANSFER', 1), ('Wal-Mart', 1), ('HYDROELECTRIC', 1), ('FOOTBALL', 1), ('Ally', 1), ('Frisby', 1), ('Briton', 1), ('MORE', 1), ('FEPG', 1), ('Egeberg', 1), ('General-and', 1), ('Broccoli', 1), ('Muskogee', 1), ('Fact', 1), ('Navigation', 1), ('Fellows', 1), ('Pyramids', 1), ('Condit', 1), ('FREE', 1), ('Yeh', 1), ('Costello', 1), ('Mendel', 1), ('Discount', 1), ('Busbee', 1), ('Connole', 1), ('FITZGERALD', 1), ('Soares', 1), ('Postwar', 1), ('Officially', 1), ('Kaitabach', 1), ('A12-start', 1), ('Rolls', 1), ('Dynamics', 1), ('DC-3', 1), ('-we', 1), ('Rolla', 1), ('Mesta', 1), ('Board-showing', 1), ('Blacksburg', 1), ('Browning', 1), ('Lagomarsino', 1), ('ALLOWANCE', 1), ('Press-Telegram', 1), ('Chretien', 1), ('EVANS', 1), ('Balboa', 1), ('Gasperi', 1), ('ANALYSIS', 1), ('Dozier', 1), ('Asbury', 1), ('Collider', 1), ('Chinasthey', 1), ('WIN', 1), ('Yorty', 1), ('Kreidler', 1), ('Terris', 1), ('Re', 1), ('AUTONOMY', 1), ('INDEPENDENT', 1), ('Goss', 1), ('Providing', 1), ('Gasohol', 1), ('Budget-a', 1), ('F-4', 1), ('Sharply', 1), ('Bengali', 1), ('Gasoline/National', 1), ('Hbomb', 1), ('OSCE', 1), ('Roel', 1), ('DEPRESSION', 1), ('Territorial', 1), ('Lawsy', 1), ('VELA', 1), ('Bunzel', 1), ('Detainees/Abu', 1), ('Union-or', 1), ('Por', 1), ('Onesteel', 1), ('Bent', 1), ('R-o-s-e-l', 1), ('Commodities', 1), ('Solution', 1), ('DINNERS', 1), ('Tannenwald', 1), ('Bernardin', 1), ('September-sometime', 1), ('Valleys', 1), ('Insular', 1), ('Zakharov', 1), ('Italians', 1), ('War-era', 1), ('Outstanding', 1), ('Guaranty', 1), ('Hanssen', 1), ('Prescribing', 1), ('Dust', 1), ('India-Pakistan', 1), ('Depart-', 1), ('USHA', 1), ('Maghreb', 1), ('Limitation', 1), ('McNAIR', 1), ('Klansman', 1), ('France/Vice', 1), ('NGOC', 1), ('Obamacares', 1), ('But,7E7E7E', 1), ('MASS', 1), (\"'77\", 1), ('Outreach', 1), ('INVASION', 1), ('Electrical', 1), ('IDs', 1), ('Africa/Caribbean', 1), ('Jinping', 1), ('QUOTATION', 1), ('Demonstrations/Iraqi', 1), ('Divine', 1), ('Practice', 1), ('Sam-whoever', 1), ('Libby/Attorney', 1), ('States-well', 1), ('van', 1), ('Verification', 1), ('Chief`', 1), ('Mattie', 1), ('Iran/Diplomacy', 1), ('PRESENTATION', 1), ('Swoboda', 1), ('Warrenton', 1), ('Junction', 1), ('Follette-Costigan', 1), ('Tudjman', 1), ('Partisanship', 1), ('HIRING', 1), ('Falangist', 1), ('Ustrella', 1), ('Zepa', 1), ('Copley', 1), ('Accurate', 1), ('Pauling', 1), ('Olympics', 1), ('Laden/Pakistan', 1), ('NEGROES', 1), ('Ashley', 1), ('Queens', 1), ('Suffice', 1), ('Pinette', 1), ('FEELERS', 1), ('Elyria', 1), ('FORECASTING', 1), ('MEDITATION', 1), ('Trudy', 1), ('Ca.', 1), ('Lattre', 1), ('Nations-', 1), ('Muslim-Croat', 1), ('Reserves', 1), ('GOVERNMENT-WIDE', 1), ('Four-star', 1), ('Carrol', 1), ('Hendren', 1), ('Joyce', 1), ('Pennsylvania-Maryland', 1), ('REASSIGNMENT', 1), ('UK', 1), ('Munsan', 1), ('TANKS', 1), ('Affirmation', 1), ('Ballantine', 1), ('Pawley', 1), ('Continuity', 1), ('Hackman', 1), ('IMPEACHABLE', 1), ('Williams/Independent', 1), ('Migs', 1), ('Plumed', 1), ('RESERVATION', 1), ('Ronnebeck', 1), ('Comsat', 1), ('Wiener', 1), ('ALA', 1), ('Weather.1', 1), ('Heselton', 1), ('Pappas', 1), ('Creighton', 1), ('Lanz', 1), ('Gut', 1), ('Wonsan', 1), ('Lani', 1), ('Bierbauer', 1), ('Supersonic', 1), ('MVP', 1), ('Mic', 1), ('Brezhnev-we', 1), ('Secrecy', 1), ('Hur', 1), ('Valdosta', 1), ('Dominions', 1), ('Huh', 1), ('Hun', 1), ('OLIVER', 1), ('Moro', 1), ('Barrientos', 1), ('HAIG', 1), ('Tieng', 1), ('High-level', 1), ('Palo', 1), ('CBI', 1), ('Oppenheim', 1), ('Sealy', 1), ('Grandview', 1), ('Arvey', 1), ('Croatian', 1), ('Sources/Price', 1), ('MAINTENANCE', 1), ('Pfaff', 1), ('Sanctions/Iran', 1), ('Egypt/Uzbekistan', 1), ('Fuerth', 1), ('Unionist', 1), ('Donaldo', 1), ('O.P.A.C.S', 1), ('ROLVAAG', 1), ('Benediktsson', 1), ('Panic', 1), ('FILMS', 1), ('Suit', 1), ('Quangtri-Hue', 1), ('Allentown', 1), ('Kerrey', 1), ('Gustavo', 1), ('CODE', 1), ('Functions', 1), ('Crim', 1), ('FFA', 1), ('Telecommunications', 1), ('Case-Russell', 1), ('HEINRICH', 1), ('Eisenhower-Strauss', 1), ('Estiven', 1), ('Palestine.1', 1), ('MOMENTS', 1), ('Kyi', 1), ('Sims', 1), ('THOUGHTS', 1), ('A4721', 1), ('ANTIPOVERTY', 1), ('Amidst', 1), ('WHITMAN', 1), ('Crisp', 1), ('Immediately', 1), ('UAW', 1), ('ARPA', 1), ('Process/Africa', 1), ('ENHANCED', 1), ('Million', 1), ('Zairians', 1), ('-that', 1), ('Nautilus', 1), ('HAITI', 1), ('Calling', 1), ('Chandler', 1), ('TEST', 1), ('Analysis/Iran', 1), ('Newarks', 1), ('Babcock', 1), ('PRESENCE', 1), ('Cemetery-', 1), ('Nominations/Senate', 1), ('Agenda/Social', 1), ('Attach', 1), ('Cruise', 1), ('Suu', 1), ('Loaf', 1), ('Lorimer', 1), ('Rend', 1), ('Bureaus-that', 1), ('Capus', 1), ('Zumwalt', 1), ('Venereal', 1), ('OPEN', 1), ('Hawking', 1), ('Consultative', 1), ('.NO', 1), ('Row', 1), ('Kwesi', 1), ('Hoffa', 1), ('Clements', 1), ('STEPHENSON', 1), ('Washington.2', 1), ('Bozo', 1), ('XXII', 1), ('Operate', 1), ('Prejudice', 1), ('Tennyson', 1), ('TELEGRAM', 1), ('Lance-I', 1), ('Substance', 1), (\"'59\", 1), (\"'57\", 1), ('S-t-e-e-l-m-a-n.', 1), ('Boarddo', 1), ('Disbursement', 1), ('Typographical', 1), ('Leighton', 1), ('Simplification', 1), ('Honoring', 1), ('Kleppe', 1), ('H-u-t-s-o-n', 1), ('Penelas', 1), ('Janovitz', 1), ('TRAGEDY', 1), ('NPR', 1), ('Links', 1), ('Fallon', 1), ('ENGLISH', 1), ('Alto', 1), ('Ramsay', 1), ('No-I', 1), ('REINSTATEMENT', 1), ('795-797', 1), ('Constantinople', 1), ('Bromsgrove', 1), ('GAINS', 1), ('Ironically', 1), ('Triomphe', 1), ('Scripture', 1), ('Orioles', 1), ('Taken', 1), ('Madre', 1), ('Takes', 1), ('know', 1), ('Cartel', 1), ('Exxon-Mobile', 1), ('Judgeship', 1), ('Bankbut-', 1), ('Cliveden', 1), ('Wounded', 1), ('R-o-w-e-n', 1), ('DEDUCTION', 1), ('DEPLOYMENTS', 1), ('Cow', 1), ('Depart-ment', 1), ('Jiffy', 1), ('PRIVILEGES', 1), ('Penney', 1), ('REDEMPTION', 1), ('Harbors', 1), ('Bacharach', 1), ('Crude', 1), ('Whereabouts', 1), ('HERBERT', 1), ('SOCIALIST', 1), ('Benedict', 1), ('ENTERTAINMENT', 1), ('Jails', 1), ('Bloody', 1), ('Boots', 1), (\"Gibson's2\", 1), ('Ruud', 1), ('Academic', 1), ('Corinto', 1), ('Virginians', 1), ('Rogue', 1), ('Cement', 1), ('Ibrahim', 1), ('Companies/', 1), ('Robey', 1), ('Play', 1), ('Agenda/Immigration', 1), ('Democratically', 1), ('PREPARATORY', 1), ('Trujillo', 1), ('Counseling', 1), ('Lesley,7E7E7E', 1), ('Appropriate', 1), ('Modulation', 1), ('Teenage', 1), ('Workplace', 1), ('GRANDFATHER', 1), ('Budget-Jim', 1), ('Blackburn', 1), ('Blair/Europe', 1), ('COASTAL', 1), ('Hyannis', 1), ('Colmer', 1), ('Norbeck', 1), ('COALITION', 1), ('Taliban-like', 1), ('COMMODITY', 1), ('Pavlov', 1), ('M28', 1), ('Vineyard', 1), ('Spyros', 1), ('NORTHEAST', 1), ('CLUB', 1), ('Whitehead', 1), ('NASDAQ', 1), ('Allies/', 1), ('GALLEY', 1), ('Groody', 1), ('longest', 1), ('Je', 1), ('Wilfred', 1), ('Lightnings', 1), ('Nationwide', 1), ('INSCRIPTION', 1), ('Kirkland', 1), ('Hoegh', 1), ('Modernization', 1), ('ESCALATION', 1), ('Sikh', 1), ('Pinehurst', 1), ('Checking', 1), ('Loud', 1), ('Straub', 1), ('Lafayette', 1), ('Vega', 1), ('Zhao', 1), ('Tauriello', 1), ('Coventry', 1), ('AFFAIR', 1), ('LT.', 1), ('F5E', 1), ('LEGISLATURES', 1), ('TEAR', 1), ('Jagan', 1), ('SUCCESS', 1), ('YEARS', 1), ('HARRIS', 1), ('Zionism', 1), ('Nations-not', 1), ('East/President', 1), ('ROSTOW', 1), ('Talbot', 1), ('Hunger', 1), ('Michigan-and', 1), (\"Xi'an\", 1), ('SPINAK', 1), ('Companies', 1), ('Rev', 1), ('WPI', 1), ('McGraw', 1), ('Dictionary', 1), ('MIGs', 1), ('Indias', 1), ('Rostov', 1), ('Sid.6', 1), ('Gamal', 1), ('Screen', 1), ('THROUGH', 1), ('Past', 1), ('USTR', 1), ('Schecter', 1), ('Doolittle', 1), ('NEUTRALITY', 1), ('Papua', 1), ('fiber', 1), ('Franco-Spain', 1), ('Alban', 1), ('Retaliated', 1), ('More', 1), ('HARBORS', 1), ('Pill', 1), ('PRISONER', 1), ('Debra', 1), ('Cl-a-p-p', 1), ('HABERMAN', 1), ('Congressmen-who', 1), ('Wisconsin-that', 1), ('GEODETIC', 1), ('Raw', 1), ('Chosin', 1), ('Ran', 1), ('UNICEF', 1), ('Boomers', 1), ('Rafael', 1), ('YEMEN', 1), ('POLISH', 1), ('EXPORTING', 1), ('Khadir', 1), ('Lightning', 1), ('Poland-both', 1), ('HYMAN', 1), ('Hollybush', 1), ('PORTER', 1), ('Intelligence/Pakistan', 1), ('January-fresh', 1), ('INTEROCEANIC', 1), ('Dental', 1), ('PEACETIME', 1), ('thirtieth', 1), ('LINE', 1), ('Pernambuco', 1), ('PRACTICES', 1), ('-by', 1), ('Sukarno', 1), ('Bottom', 1), ('PORTUGAL', 1), ('Katyn', 1), ('Herschel', 1), ('Yukon', 1), ('Price-earning', 1), ('Logan', 1), ('Nhu', 1), ('ASSOCIATE', 1), ('Bowzman', 1), ('Everyone', 1), ('Upward', 1), ('Mackinac', 1), ('DOCK', 1), ('Shoal', 1), ('SPAIN', 1), ('POLLUTION', 1), ('Shadow', 1), ('Tufty', 1), ('AMOUNT', 1), ('Saddamists', 1), ('DISTURBANCES', 1), ('Amirs', 1), ('Zeckendorf', 1), ('Negev', 1), ('Ferre', 1), ('OPENNESS', 1), ('Paterson', 1), ('REPRESENTATIVES', 1), ('Nepal', 1), ('Senators-whether', 1), ('Different', 1), ('Inc', 1), ('Pleiku', 1), (\"'The\", 1), ('SHELTER', 1), ('BOYCOTTS', 1), ('Colonials', 1), ('ELECTORAL', 1), ('Regrettably', 1), ('Winship', 1), ('Kriangsak', 1), ('Katangans', 1), ('NIEs', 1), ('T-shirt', 1), ('Bergstrom', 1), ('B-l-o-c-k.', 1), ('Things', 1), ('Chernenko', 1), ('Grayson', 1), ('LEWIS', 1), ('States-and', 1), ('Shulkin', 1), ('Babyface', 1), ('Helpers', 1), ('Support/Nature', 1), ('ESTIMATE', 1), ('Harmel', 1), ('Louise', 1), ('SPIRIT', 1), ('Erickson', 1), ('HIGHWAYS', 1), ('ACCOMMODATIONS', 1), ('JUDGESHIP', 1), ('CANDOR', 1), ('Eskimos', 1), ('Institute.1', 1), ('RICO', 1), ('Bonnie', 1), ('COLLECTOR', 1), ('Tiran', 1), ('RUSSIANS', 1), ('GIs', 1), ('Joshua', 1), ('Counsellors', 1), ('Illness', 1), ('Behrens', 1), ('Angus', 1), ('Phleger', 1), ('Nogales', 1), ('U.N.R.R.A', 1), ('Christians', 1), ('McGiffert', 1), ('Bidens', 1), ('Sammon', 1), ('Persevere', 1), ('Subsequently', 1), ('Alameda', 1), ('Elections/War', 1), ('Cabinets', 1), ('Carlisle', 1), ('Buchen', 1), ('Fame', 1), ('KFOR', 1), ('Primarily', 1), ('Alphonzo', 1), ('Decision-Making', 1), ('Supervisors', 1), ('ICY', 1), ('Thernstrom', 1), ('Hraoui', 1), ('Farnum', 1), ('Ciampi', 1), ('Tsongas', 1), ('U.S.-Greek', 1), ('Panhandle', 1), ('House-somehow', 1), ('McKenzie', 1), ('SENTINEL', 1), ('Principles', 1), ('Airborne', 1), ('Tricolor', 1), ('Coordination', 1), ('Bingaman', 1), ('S.E.C.', 1), ('Whoops', 1), ('REVELATION', 1), ('Narragansett', 1), ('Chadwick', 1), ('FBS', 1), ('Veen', 1), ('McWherter', 1), ('ORIGIN', 1), ('Willmott', 1), ('ODM', 1), ('Ruckelshaus', 1), ('ODT', 1), ('Stockpiling', 1), ('Congo-you', 1), ('Mendez', 1), ('Houmann', 1), ('Kinsolving', 1), ('Pico', 1), ('Vientiane', 1), ('PRESIDENT-DESIGNATE', 1), ('Guangdong', 1), ('Redeployment', 1), ('Amherst', 1), ('Tuscaloosa', 1), ('Nepotism', 1), ('Gore-Chernomyrdin', 1), ('Reform/Polls', 1), (\"'the\", 1), ('UNSCOM', 1), ('Sheil', 1), ('Militia', 1), ('DECENNIAL', 1), ('Submarginal', 1), ('VOTER', 1), ('Johnson-Humphrey', 1), ('Kolbe', 1), ('Stepped-up', 1), ('Sacrifice', 1), ('WENDELL', 1), ('Congress-House', 1), ('DeMint', 1), ('Luxemburg', 1), ('Barkansas', 1), ('Constitution-the', 1), ('Through', 1), ('GOODELL', 1), ('Fallujah/Freedom', 1), ('U.S.C.', 1), ('Consul', 1), ('Failures', 1), ('Enemy', 1), ('Countless', 1), ('Bosworth', 1), ('Getty', 1), ('Horseshoes', 1), ('Cap-Haitien', 1), ('Belgian', 1), ('Reckless', 1), ('ARIAS', 1), ('Dakota-both', 1), ('S-t-a-n-t-o-n', 1), ('WITHIN', 1), ('Visegrad', 1), ('Attendance', 1), ('Pink', 1), ('Response/America', 1), ('Lagos', 1), ('Psychological', 1), ('Youngblood', 1), ('Mossadegh', 1), ('Veracruz', 1), ('Petersmeyer', 1), ('WILLEBRANDT', 1), ('Idle', 1), ('Stethem', 1), ('Signal', 1), ('Dobbin', 1), ('July-December', 1), ('Hizballah/Lebanon', 1), ('Ethanol', 1), ('I-', 1), ('Workforce', 1), ('Burger', 1), ('Eakes', 1), ('Jadwin1', 1), ('Achille', 1), ('Nowthey', 1), ('Open', 1), ('Vinci', 1), ('Hadiya', 1), ('Someday', 1), ('Tedder', 1), ('Tesla', 1), ('Fence', 1), ('Divide', 1), ('FULFILL', 1), ('Abigail', 1), ('WAC', 1), ('Jingsheng', 1), ('FAIR', 1), ('634', 1), ('CRIMMINS', 1), ('FRANCES', 1), ('Negotiating', 1), ('Maguire', 1), ('Knew', 1), ('Monuments', 1), ('Lundeen', 1), ('Schola', 1), ('THESE', 1), ('Riffian', 1), ('Ransom', 1), ('Newtons', 1), ('Kublai', 1), ('Zinsmaster', 1), ('Kittle', 1), ('FUND', 1), ('W.P.B', 1), ('ALMOND', 1), ('Procter', 1), ('Bonner', 1), ('Ehrlictman', 1), ('Virtue', 1), ('Videla', 1), ('Tarawa', 1), (\"'08\", 1), ('NICARAGUAN', 1), ('Manifestos', 1), ('Mosher', 1), ('Spread', 1), ('TERRITORIES', 1), ('Capones', 1), ('Salih', 1), ('Buchenwald', 1), ('Silcox', 1), ('PASS', 1), ('Connerly', 1), ('Rhineland', 1), ('Tibbetts', 1), ('Rockhill', 1), ('Trowbridge-Mr.', 1), ('CROWELL', 1), ('McNeill', 1), ('Continuing', 1), ('Posting', 1), ('Publishers', 1), ('Thorough', 1), ('Sorenson', 1), ('Merriweather', 1), ('OFFICES', 1), ('Humane', 1), ('Petkus', 1), ('Czechs', 1), ('Department-if', 1), ('NRC', 1), ('PLAYBOY', 1), ('Wyo', 1), ('Betancourt', 1), ('HEMISPHERE', 1), ('MILLIKEN', 1), ('Shhh', 1), ('McGruth', 1), ('Precinct', 1), ('Spaulding', 1), ('ENVIRONMENTAL', 1), ('EXPECTATIONS', 1), ('Oceans', 1), ('Funeral', 1), ('Evansville', 1), (\"CLIFFORD'5\", 1), ('SKOKIE', 1), ('Militias', 1), ('Prussia', 1), ('Silkworm', 1), ('Tula', 1), ('Aggression', 1), ('M11', 1), ('CONCORDE', 1), ('Drunk', 1), ('Quicker', 1), ('Environment/Technology/Trade', 1), ('CAUCUSES', 1), ('-56', 1), ('LaGuardia', 1), ('Deregulation', 1), ('Ramaswami', 1), ('Whitten', 1), ('EDUCATIONAL', 1), ('Delphic', 1), ('HIGHER', 1), ('Chattahoochee', 1), ('Date', 1), ('PLANES', 1), ('Conable', 1), ('MINUTEMAN', 1), ('PAYROLL', 1), ('CLAYTON', 1), ('Citizen', 1), ('Stark', 1), ('Privileges', 1), ('Speak', 1), ('Commemoration', 1), ('Filipinos', 1), ('Glass-Steagall', 1), ('SR-71', 1), ('Atterbury', 1), ('F15', 1), ('RFO', 1), ('Lister', 1), ('LAVAL', 1), ('Mosadeq', 1), ('Contraceptive', 1), ('Ileana', 1), ('Alert', 1), ('Eduardo', 1), ('-yes', 1), ('MADE', 1), ('Benin', 1), ('Eugenie', 1), ('Save', 1), ('MOTIVES', 1), ('Fredericksburg', 1), ('Oreg.', 1), ('NIA', 1), ('Heathrow', 1), ('Watchee', 1), ('LAOTIAN', 1), ('Adana', 1), ('RELEASING', 1), ('SACLANT', 1), ('Josephus', 1), ('Infant', 1), ('Auguste', 1), ('Burtness', 1), ('Augusto', 1), ('Opinion/Progress', 1), ('Levels/North', 1), ('Effects', 1), ('Wesley', 1), ('McGarrah', 1), ('Kursk', 1), ('SCHOLARSHIPS', 1), ('Glickman', 1), ('FILM', 1), ('A7E', 1), ('Hatkin', 1), ('LAWRENCE', 1), ('COUNSEL', 1), ('Bassett', 1), ('MX/Peacekeeper', 1), ('Destruction/North', 1), ('Elko', 1), ('East/Iraq', 1), ('Nuclear-Free', 1), ('YUKOS', 1), ('Hashimoto', 1), ('Fortress', 1), ('Valery', 1), ('Lawson', 1), ('Haber', 1), ('READINESS', 1), ('Average', 1), ('TACTICS', 1), ('C-54', 1), ('Glasgow', 1), ('Korea/Six-Party', 1), ('Jere', 1), ('McDowell', 1), ('Hutchens', 1), ('Scribner', 1), ('P2V', 1), ('Adkins', 1), ('Mig', 1), ('Integration', 1), ('K-e-e-n.', 1), ('IMPORTANCE', 1), ('Wheeling', 1), ('Antilles', 1), ('Aldo', 1), ('Gaston', 1), ('Eva', 1), ('Duration', 1), ('Benefits', 1), ('Pacific-Asia', 1), ('Iraq/Military', 1), ('Gearan', 1), ('Import', 1), ('Denton', 1), ('Sheehan', 1), ('Lees', 1), ('Measures', 1), ('Economy/2008', 1), ('NOMINEES', 1), ('Armas', 1), ('Mainz', 1)]\n"
     ]
    }
   ],
   "source": [
    "# from nltk import word_tokenize\n",
    "# from collections import Counter\n",
    "# from nltk.tag.perceptron import PerceptronTagger\n",
    "\n",
    "# tagger = PerceptronTagger()\n",
    "\n",
    "# assess_text = word_tokenize(\" \".join(loaded_text))\n",
    "\n",
    "# tagged_sent = tagger.tag(assess_text) \n",
    "# propernouns = [word for word, pos in tagged_sent if pos == 'NNP']\n",
    "\n",
    "# print Counter(propernouns).most_common()[:-1000-1:-1]"
   ]
  },
  {
   "cell_type": "code",
   "execution_count": 61,
   "metadata": {},
   "outputs": [
    {
     "name": "stdout",
     "output_type": "stream",
     "text": [
      "Replacements complete.\n"
     ]
    }
   ],
   "source": [
    "#\n",
    "# Bagnall 2015 text pre-processing\n",
    "#\n",
    "from string import maketrans\n",
    "import re\n",
    "\n",
    "chars_to_replace = \"[]%!()>=*&_}+\"\n",
    "sub_chars = len(chars_to_replace) * \" \"\n",
    "trantab = maketrans(chars_to_replace, sub_chars)\n",
    "for x in range(0,len(loaded_text)):\n",
    "    # \"Various rare characters that seemed largely equivalent are mapped together...\"\n",
    "    loaded_text[x] = re.sub('`', '\\'', loaded_text[x])\n",
    "    loaded_text[x] = re.sub('--', '-', loaded_text[x])\n",
    "    loaded_text[x] = re.sub('\\n\\n', '\\n', loaded_text[x])\n",
    "    # \"...all digits in all languages are mapped to 7\"\n",
    "    loaded_text[x] = re.sub('[0-9]+', '7', loaded_text[x])\n",
    "    # \"...any character with a frequency lower than 1 in 10,000 is discarded.\"\n",
    "    loaded_text[x] = loaded_text[x].translate(trantab)\n",
    "    # \"Runs of whitespace are collapsed into a single space.\"\n",
    "    loaded_text[x] = re.sub(' +', ' ', loaded_text[x])\n",
    "    \n",
    "    # REPLACE WORD IN ALL CAPS with <t> as a test of topic removal\n",
    "    #loaded_text[x] = re.sub('[A-Z]{2,}','<t>', loaded_text[x])\n",
    "\n",
    "print \"Replacements complete.\""
   ]
  },
  {
   "cell_type": "code",
   "execution_count": 62,
   "metadata": {},
   "outputs": [
    {
     "name": "stdout",
     "output_type": "stream",
     "text": [
      "RESCUE MISSION FOR AMERICAN HOSTAGES IN IRAN Before answering questions this evening, I would like to say a few words about the rescue mission in Iran. I share the disappointment of the American people that this rescue mission was not successful, and I also share the grief of our Nation because we had Americans who were casualties in this effort to seek freedom for their fellow citizens who have been held hostage for so long. But I also share a deep pride in the commitment and courage and the integrity and the competence and the determination of those who went on this mission. They were prepared to do their duty, and they did their duty. I can think of no higher compliment for a Commander in Chief to pay to brave men. It was my responsibili\n"
     ]
    }
   ],
   "source": [
    "# Have a look at a scrubbed text excerpt\n",
    "print loaded_text[200][:750]"
   ]
  },
  {
   "cell_type": "code",
   "execution_count": 63,
   "metadata": {},
   "outputs": [
    {
     "name": "stdout",
     "output_type": "stream",
     "text": [
      "How many characters of text per president?\n",
      "0  : Barack Obama         \t4869126\n",
      "1  : Donald J. Trump      \t555750\n",
      "2  : Dwight D. Eisenhower \t3085442\n",
      "3  : Franklin D. Roosevelt \t1746653\n",
      "4  : George Bush          \t1899100\n",
      "5  : George W. Bush       \t1792991\n",
      "6  : Gerald R. Ford       \t706711\n",
      "7  : Harry S. Truman      \t2002254\n",
      "8  : Herbert Hoover       \t800912\n",
      "9  : Jimmy Carter         \t1290474\n",
      "10 : John F. Kennedy      \t1345102\n",
      "11 : Lyndon B. Johnson    \t2326890\n",
      "12 : Richard Nixon        \t990798\n",
      "13 : Ronald Reagan        \t1010956\n",
      "14 : William J. Clinton   \t1786719\n",
      "\n",
      "Minimum number of characters per president?\n",
      "555750\n"
     ]
    }
   ],
   "source": [
    "#\n",
    "# Join all speeches into one massive per president\n",
    "#  for later processing\n",
    "#\n",
    "import numpy as np\n",
    "from scipy import stats\n",
    "from operator import itemgetter\n",
    "from collections import defaultdict\n",
    "\n",
    "compressed_text = [None]*(len(labels))\n",
    "for key, value in sorted(labels.iteritems()):\n",
    "    compressed_text[value] = \"\"\n",
    "    for idx in range(0,len(loaded_text)):\n",
    "        if (loaded_labels[idx] == value):\n",
    "            compressed_text[value] = compressed_text[value] + loaded_text[idx] + \" \"\n",
    "            \n",
    "print \"How many characters of text per president?\"\n",
    "for key, value in sorted(labels.iteritems()):\n",
    "    print str(value).ljust(2), \":\", key.ljust(20), \"\\t\", len(compressed_text[value])\n",
    "\n",
    "label_min_chars = len(min(compressed_text, key=len))\n",
    "print \"\\nMinimum number of characters per president?\"\n",
    "print label_min_chars"
   ]
  },
  {
   "cell_type": "code",
   "execution_count": 64,
   "metadata": {
    "scrolled": true
   },
   "outputs": [
    {
     "name": "stdout",
     "output_type": "stream",
     "text": [
      "Unique char count: 68\n",
      "\n",
      "Chars w/ counts:\n",
      "[(4725447, ' '), (2569974, 'e'), (2131220, 't'), (1627649, 'o'), (1609954, 'a'), (1476541, 'n'), (1405067, 'i'), (1193120, 's'), (1157275, 'r'), (1066798, 'h'), (755187, 'l'), (705084, 'd'), (548669, 'u'), (534278, 'c'), (478832, 'm'), (418343, 'w'), (393337, 'g'), (389784, 'f'), (382020, 'p'), (374441, 'y'), (281512, 'b'), (264600, ','), (263713, '.'), (240856, 'v'), (175656, 'I'), (151063, 'k'), (95930, \"'\"), (74786, 'A'), (59022, 'T'), (58392, 'S'), (44390, '-'), (40592, 'W'), (40548, '7'), (35537, 'C'), (33805, 'N'), (32811, 'x'), (27664, 'M'), (25791, 'P'), (25503, 'j'), (25399, 'B'), (23916, 'E'), (21726, 'q'), (20252, 'R'), (19956, 'O'), (19583, 'G'), (17171, 'H'), (16245, 'U'), (15855, 'D'), (13886, 'F'), (12873, 'L'), (11930, 'z'), (10681, 'Y'), (10672, '\"'), (9360, ';'), (8141, '?'), (8075, 'J'), (6390, ':'), (5293, 'V'), (4737, '\\n'), (4486, 'K'), (3981, '$'), (1853, '/'), (1349, 'Q'), (446, 'Z'), (421, 'X'), (6, '#'), (4, '\\\\')]\n"
     ]
    }
   ],
   "source": [
    "#\n",
    "# Tokenize words into chars\n",
    "#\n",
    "from keras.preprocessing.text import Tokenizer\n",
    "from keras.preprocessing import sequence\n",
    "\n",
    "# Tokenize into characters\n",
    "tokenizer = Tokenizer(char_level=True)\n",
    "tokenizer.fit_on_texts(compressed_text)\n",
    "tokenized_text = tokenizer.texts_to_sequences(compressed_text)\n",
    "\n",
    "# there's an oddity in the encoding for some reason where a len+1 character occurs\n",
    "unique_chars = len(tokenizer.word_counts)+1\n",
    "\n",
    "print \"Unique char count:\", unique_chars\n",
    "print \"\\nChars w/ counts:\"\n",
    "print sorted(((v,k) for k,v in tokenizer.word_counts.iteritems()), reverse=True)"
   ]
  },
  {
   "cell_type": "code",
   "execution_count": 65,
   "metadata": {
    "scrolled": true
   },
   "outputs": [
    {
     "name": "stdout",
     "output_type": "stream",
     "text": [
      "Subsequence total count; subsequence label total count: 524192 524192\n",
      "\n",
      "Total characters: 26209600\n"
     ]
    }
   ],
   "source": [
    "#\n",
    "# Split speeches into subsequences \n",
    "#\n",
    "from collections import Counter\n",
    "\n",
    "def splits(_list, _split_size):\n",
    "    output_list = []\n",
    "    for idx in range(0, len(_list), _split_size):\n",
    "        if (idx + _split_size) <= len(_list):\n",
    "            output_list.append(_list[idx:idx + _split_size])\n",
    "    return output_list\n",
    "\n",
    "max_seq_len = 50\n",
    "\n",
    "# create new speech/label holders\n",
    "split_text = []\n",
    "split_labels = []\n",
    "\n",
    "for idx in range(0, len(tokenized_text)):\n",
    "    current_label = idx\n",
    "    current_speech = tokenized_text[idx]#[:label_min_chars]\n",
    "    current_splits = splits(current_speech, max_seq_len)\n",
    "    split_text.extend(current_splits)\n",
    "    split_labels.extend([current_label] * len(current_splits))\n",
    "\n",
    "print \"Subsequence total count; subsequence label total count:\", len( split_text ), len( split_labels )\n",
    "print \"\\nTotal characters:\", len( split_text ) * max_seq_len"
   ]
  },
  {
   "cell_type": "code",
   "execution_count": 66,
   "metadata": {},
   "outputs": [
    {
     "name": "stdout",
     "output_type": "stream",
     "text": [
      "[[9, 7, 6, 17, 1, 14, 11, 4, 13, 12, 8, 1, 5, 6, 12, 1, 9, 5, 17, 7, 6, 17, 1, 8, 3, 4, 9, 15, 8, 23, 1, 28, 3, 1, 3, 10, 2, 8, 2, 1, 15, 4, 15, 2, 6, 3, 8, 22, 1, 28], [15, 2, 9, 7, 14, 5, 1, 10, 5, 8, 1, 14, 5, 9, 9, 7, 2, 12, 1, 4, 6, 1, 6, 4, 3, 1, 8, 7, 15, 19, 11, 20, 1, 21, 2, 14, 5, 13, 8, 2, 1, 4, 18, 1, 3, 10, 2, 1, 8, 26], [7, 11, 11, 1, 4, 9, 1, 24, 7, 8, 7, 4, 6, 1, 4, 18, 1, 3, 10, 4, 8, 2, 1, 7, 6, 1, 10, 7, 17, 10, 1, 4, 18, 18, 7, 14, 2, 22, 1, 21, 13, 3, 1, 21, 2, 14, 5, 13, 8, 2], [1, 16, 2, 1, 3, 10, 2, 1, 19, 2, 4, 19, 11, 2, 1, 10, 5, 24, 2, 1, 9, 2, 15, 5, 7, 6, 2, 12, 1, 18, 5, 7, 3, 10, 18, 13, 11, 1, 3, 4, 1, 3, 10, 2, 1, 7, 12, 2, 5, 11], [8, 1, 4, 18, 1, 4, 13, 9, 1, 18, 4, 9, 2, 21, 2, 5, 9, 8, 1, 5, 6, 12, 1, 3, 9, 13, 2, 1, 3, 4, 1, 4, 13, 9, 1, 18, 4, 13, 6, 12, 7, 6, 17, 1, 12, 4, 14, 13, 15, 2]]\n",
      "[0, 0, 0, 0, 0]\n"
     ]
    }
   ],
   "source": [
    "# Have a look at a few split text excerpts\n",
    "print split_text[10:15]\n",
    "print split_labels[10:15]"
   ]
  },
  {
   "cell_type": "code",
   "execution_count": 67,
   "metadata": {
    "collapsed": true
   },
   "outputs": [],
   "source": [
    "#\n",
    "# split amongst speaker samples, not the whole population of samples; shuffle if requested\n",
    "#\n",
    "import sklearn.utils\n",
    "\n",
    "def split_test_train(input_text, input_labels, labels, train_pct=0.8, shuffle_p=True):\n",
    "    train_text = []\n",
    "    train_labels = []\n",
    "    test_text = []\n",
    "    test_labels = []\n",
    "\n",
    "    for key, value in sorted(labels.iteritems()):\n",
    "        # grab all values of a specific label\n",
    "        subset_text = list(itemgetter(*[idx for idx, label in enumerate(input_labels) if label == value ])(input_text))\n",
    "        subset_labels = list(itemgetter(*[idx for idx, label in enumerate(input_labels) if label == value ])(input_labels))\n",
    "\n",
    "        cut_pos = int(train_pct * len(subset_text))\n",
    "        train_text = train_text + subset_text[:cut_pos]\n",
    "        train_labels = train_labels + subset_labels[:cut_pos]\n",
    "        test_text = test_text + subset_text[cut_pos:]\n",
    "        test_labels = test_labels + subset_labels[cut_pos:]\n",
    "\n",
    "    if shuffle_p:\n",
    "        test_text, test_labels = sklearn.utils.shuffle(test_text, test_labels)\n",
    "        train_text, train_labels = sklearn.utils.shuffle(train_text, train_labels)\n",
    "\n",
    "    return train_text, train_labels, test_text, test_labels"
   ]
  },
  {
   "cell_type": "code",
   "execution_count": 68,
   "metadata": {
    "scrolled": true
   },
   "outputs": [
    {
     "name": "stdout",
     "output_type": "stream",
     "text": [
      "Sample splits:\n",
      " Test =  419349 \n",
      " Train =  104843\n",
      "\n",
      "Class weights:\n",
      "{0: 0.3588550157242796, 1: 3.144017094017094, 2: 0.5663128468986752, 3: 1.000379302941387, 4: 0.9200789863419451, 5: 0.9745389897863144, 6: 2.472503758733528, 7: 0.8726620052441004, 8: 2.181723115342594, 9: 1.3540272194507676, 10: 1.2990381487849079, 11: 0.7509360982030138, 12: 1.763600807469089, 13: 1.7283833075734159, 14: 0.9779480183300101}\n"
     ]
    }
   ],
   "source": [
    "#\n",
    "# Prep test/train\n",
    "#\n",
    "from sklearn.preprocessing import OneHotEncoder\n",
    "from sklearn.utils import class_weight\n",
    "\n",
    "# split data smartly\n",
    "train_X, train_y, test_X, test_y = split_test_train(split_text, split_labels, \n",
    "                                                    labels, train_pct=0.8, shuffle_p=False)\n",
    "print \"Sample splits:\\n Test = \", len(train_X), \"\\n Train = \", len(test_X)##\n",
    "\n",
    "# compute class weights to account for imbalanced classes\n",
    "y_weights = (class_weight.compute_class_weight('balanced', np.unique(train_y), train_y)).tolist()\n",
    "y_weights = dict(zip(sorted(labels.values()), y_weights))\n",
    "print \"\\nClass weights:\\n\", y_weights"
   ]
  },
  {
   "cell_type": "code",
   "execution_count": 69,
   "metadata": {},
   "outputs": [
    {
     "name": "stdout",
     "output_type": "stream",
     "text": [
      "[[9, 7, 6, 17, 1, 14, 11, 4, 13, 12, 8, 1, 5, 6, 12, 1, 9, 5, 17, 7, 6, 17, 1, 8, 3, 4, 9, 15, 8, 23, 1, 28, 3, 1, 3, 10, 2, 8, 2, 1, 15, 4, 15, 2, 6, 3, 8, 22, 1, 28], [15, 2, 9, 7, 14, 5, 1, 10, 5, 8, 1, 14, 5, 9, 9, 7, 2, 12, 1, 4, 6, 1, 6, 4, 3, 1, 8, 7, 15, 19, 11, 20, 1, 21, 2, 14, 5, 13, 8, 2, 1, 4, 18, 1, 3, 10, 2, 1, 8, 26], [7, 11, 11, 1, 4, 9, 1, 24, 7, 8, 7, 4, 6, 1, 4, 18, 1, 3, 10, 4, 8, 2, 1, 7, 6, 1, 10, 7, 17, 10, 1, 4, 18, 18, 7, 14, 2, 22, 1, 21, 13, 3, 1, 21, 2, 14, 5, 13, 8, 2], [1, 16, 2, 1, 3, 10, 2, 1, 19, 2, 4, 19, 11, 2, 1, 10, 5, 24, 2, 1, 9, 2, 15, 5, 7, 6, 2, 12, 1, 18, 5, 7, 3, 10, 18, 13, 11, 1, 3, 4, 1, 3, 10, 2, 1, 7, 12, 2, 5, 11], [8, 1, 4, 18, 1, 4, 13, 9, 1, 18, 4, 9, 2, 21, 2, 5, 9, 8, 1, 5, 6, 12, 1, 3, 9, 13, 2, 1, 3, 4, 1, 4, 13, 9, 1, 18, 4, 13, 6, 12, 7, 6, 17, 1, 12, 4, 14, 13, 15, 2]]\n",
      "[0, 0, 0, 0, 0]\n"
     ]
    }
   ],
   "source": [
    "# Have a look at a few of the split text excerpts; \n",
    "# likely the same classes based on the split point\n",
    "print train_X[10:15]\n",
    "print train_y[10:15]"
   ]
  },
  {
   "cell_type": "code",
   "execution_count": 70,
   "metadata": {
    "scrolled": true
   },
   "outputs": [
    {
     "name": "stdout",
     "output_type": "stream",
     "text": [
      "Encoding train_X with dimensions  (419349, 50)\n",
      "...to  (20967450, 68)\n",
      "...and reshaping to  (419349, 50, 68)\n",
      "\n",
      "Encoding test_X with dimensions  (104843, 50)\n",
      "...to  (5242150, 68)\n",
      "...and reshaping to  (104843, 50, 68)\n"
     ]
    }
   ],
   "source": [
    "#\n",
    "# One-hot encoding classes & samples\n",
    "#\n",
    "from keras.utils import to_categorical\n",
    "\n",
    "# one-hot encode classes\n",
    "train_y = to_categorical(train_y)\n",
    "test_y = to_categorical(test_y)\n",
    "\n",
    "# one-hot encode samples\n",
    "train_X = np.array(train_X)\n",
    "orig_train_X_size=train_X.shape[0]\n",
    "print \"Encoding train_X with dimensions \", train_X.shape\n",
    "train_X = to_categorical(train_X, num_classes=unique_chars)\n",
    "print \"...to \", train_X.shape\n",
    "train_X = np.reshape(train_X,(orig_train_X_size,max_seq_len,unique_chars))\n",
    "print \"...and reshaping to \", train_X.shape\n",
    "\n",
    "test_X = np.array(test_X)\n",
    "orig_test_X_size=test_X.shape[0]\n",
    "print \"\\nEncoding test_X with dimensions \", test_X.shape\n",
    "test_X = to_categorical(test_X, num_classes=unique_chars)\n",
    "print \"...to \", test_X.shape\n",
    "test_X = np.reshape(test_X,(orig_test_X_size,max_seq_len,unique_chars))\n",
    "print \"...and reshaping to \", test_X.shape"
   ]
  },
  {
   "cell_type": "code",
   "execution_count": 71,
   "metadata": {},
   "outputs": [
    {
     "name": "stdout",
     "output_type": "stream",
     "text": [
      "[[[ 0.  0.  0. ...,  0.  0.  0.]\n",
      "  [ 0.  0.  0. ...,  0.  0.  0.]\n",
      "  [ 0.  0.  0. ...,  0.  0.  0.]\n",
      "  ..., \n",
      "  [ 0.  0.  0. ...,  0.  0.  0.]\n",
      "  [ 0.  1.  0. ...,  0.  0.  0.]\n",
      "  [ 0.  0.  0. ...,  0.  0.  0.]]]\n",
      "[[ 1.  0.  0.  0.  0.  0.  0.  0.  0.  0.  0.  0.  0.  0.  0.]]\n"
     ]
    }
   ],
   "source": [
    "# Have a again look at a few of the split and encoded text excerpts; \n",
    "# both arrays should be one-hot encoded.\n",
    "print train_X[10:11]\n",
    "print train_y[10:11]"
   ]
  },
  {
   "cell_type": "code",
   "execution_count": 72,
   "metadata": {
    "collapsed": true
   },
   "outputs": [],
   "source": [
    "# custom activation from Bagnall 2015\n",
    "#  we were never able to get this to work; either nan'ed or never converged\n",
    "import tensorflow as tf\n",
    "from keras.utils.generic_utils import get_custom_objects\n",
    "\n",
    "def ReSQRT(x):\n",
    "    cond = tf.less_equal(x, 0.0)\n",
    "    return tf.where(cond, x * 0.0, tf.sqrt(x+1)-1)\n",
    "\n",
    "get_custom_objects().update({'ReSQRT': ReSQRT})"
   ]
  },
  {
   "cell_type": "markdown",
   "metadata": {
    "collapsed": true
   },
   "source": [
    "Bagnall proposes that the following possible values contribute to the success of the model:\n",
    "\n",
    "| meta-parameter                  \t| typical value                      \t|\n",
    "|---------------------------------\t|------------------------------------\t|\n",
    "| initial adagrad learning scale  \t| 0.1, 0.14, 0.2, 0.3                \t|\n",
    "| initial leakage between classes \t| 1/4N to 5/N                        \t|\n",
    "| leakage decay (per sub-epoch)   \t| 0.67 to 0.9                        \t|\n",
    "| hidden neurons                  \t| 79, 99, 119, 139                   \t|\n",
    "| presynaptic noise σ             \t| 0, 0.1, 0.2, 0.3, 0.5              \t|\n",
    "| sub-epochs                      \t| 6 to 36                            \t|\n",
    "| text direction                  \t| forward or backward                \t|\n",
    "| text handling                   \t| sequential, concatenated, balanced \t|\n",
    "| initialisation                  \t| gaussian, zero                     \t|"
   ]
  },
  {
   "cell_type": "code",
   "execution_count": 73,
   "metadata": {
    "scrolled": true
   },
   "outputs": [
    {
     "name": "stdout",
     "output_type": "stream",
     "text": [
      "_________________________________________________________________\n",
      "Layer (type)                 Output Shape              Param #   \n",
      "=================================================================\n",
      "input_2 (InputLayer)         (None, 50, 68)            0         \n",
      "_________________________________________________________________\n",
      "bidirectional_2 (Bidirection (None, 50)                11900     \n",
      "_________________________________________________________________\n",
      "dropout_2 (Dropout)          (None, 50)                0         \n",
      "_________________________________________________________________\n",
      "dense_2 (Dense)              (None, 15)                765       \n",
      "=================================================================\n",
      "Total params: 12,665\n",
      "Trainable params: 12,665\n",
      "Non-trainable params: 0\n",
      "_________________________________________________________________\n",
      "None\n",
      "Epoch 1/50\n",
      "254750/419349 [=================>............] - ETA: 143s - loss: 2.6807 - categorical_accuracy: 0.0823"
     ]
    },
    {
     "ename": "KeyboardInterrupt",
     "evalue": "",
     "output_type": "error",
     "traceback": [
      "\u001b[0;31m---------------------------------------------------------------------------\u001b[0m",
      "\u001b[0;31mKeyboardInterrupt\u001b[0m                         Traceback (most recent call last)",
      "\u001b[0;32m<ipython-input-73-e705d5aaae4a>\u001b[0m in \u001b[0;36m<module>\u001b[0;34m()\u001b[0m\n\u001b[1;32m     51\u001b[0m           \u001b[0mclass_weight\u001b[0m \u001b[0;34m=\u001b[0m \u001b[0my_weights\u001b[0m\u001b[0;34m,\u001b[0m\u001b[0;34m\u001b[0m\u001b[0m\n\u001b[1;32m     52\u001b[0m           \u001b[0mcallbacks\u001b[0m\u001b[0;34m=\u001b[0m\u001b[0;34m[\u001b[0m\u001b[0mreduce_lr\u001b[0m\u001b[0;34m,\u001b[0m \u001b[0mcsv_logger\u001b[0m\u001b[0;34m]\u001b[0m\u001b[0;34m,\u001b[0m\u001b[0;34m\u001b[0m\u001b[0m\n\u001b[0;32m---> 53\u001b[0;31m           verbose=1)\n\u001b[0m\u001b[1;32m     54\u001b[0m \u001b[0;34m\u001b[0m\u001b[0m\n\u001b[1;32m     55\u001b[0m \u001b[0mmodel\u001b[0m\u001b[0;34m.\u001b[0m\u001b[0msave\u001b[0m\u001b[0;34m(\u001b[0m\u001b[0;34m'Keras_BagnallCharacter_SimpleRNN.h5'\u001b[0m\u001b[0;34m)\u001b[0m\u001b[0;34m\u001b[0m\u001b[0m\n",
      "\u001b[0;32m//anaconda/envs/keras_tf/lib/python2.7/site-packages/keras/engine/training.pyc\u001b[0m in \u001b[0;36mfit\u001b[0;34m(self, x, y, batch_size, epochs, verbose, callbacks, validation_split, validation_data, shuffle, class_weight, sample_weight, initial_epoch, **kwargs)\u001b[0m\n\u001b[1;32m   1428\u001b[0m                               \u001b[0mval_f\u001b[0m\u001b[0;34m=\u001b[0m\u001b[0mval_f\u001b[0m\u001b[0;34m,\u001b[0m \u001b[0mval_ins\u001b[0m\u001b[0;34m=\u001b[0m\u001b[0mval_ins\u001b[0m\u001b[0;34m,\u001b[0m \u001b[0mshuffle\u001b[0m\u001b[0;34m=\u001b[0m\u001b[0mshuffle\u001b[0m\u001b[0;34m,\u001b[0m\u001b[0;34m\u001b[0m\u001b[0m\n\u001b[1;32m   1429\u001b[0m                               \u001b[0mcallback_metrics\u001b[0m\u001b[0;34m=\u001b[0m\u001b[0mcallback_metrics\u001b[0m\u001b[0;34m,\u001b[0m\u001b[0;34m\u001b[0m\u001b[0m\n\u001b[0;32m-> 1430\u001b[0;31m                               initial_epoch=initial_epoch)\n\u001b[0m\u001b[1;32m   1431\u001b[0m \u001b[0;34m\u001b[0m\u001b[0m\n\u001b[1;32m   1432\u001b[0m     \u001b[0;32mdef\u001b[0m \u001b[0mevaluate\u001b[0m\u001b[0;34m(\u001b[0m\u001b[0mself\u001b[0m\u001b[0;34m,\u001b[0m \u001b[0mx\u001b[0m\u001b[0;34m,\u001b[0m \u001b[0my\u001b[0m\u001b[0;34m,\u001b[0m \u001b[0mbatch_size\u001b[0m\u001b[0;34m=\u001b[0m\u001b[0;36m32\u001b[0m\u001b[0;34m,\u001b[0m \u001b[0mverbose\u001b[0m\u001b[0;34m=\u001b[0m\u001b[0;36m1\u001b[0m\u001b[0;34m,\u001b[0m \u001b[0msample_weight\u001b[0m\u001b[0;34m=\u001b[0m\u001b[0mNone\u001b[0m\u001b[0;34m)\u001b[0m\u001b[0;34m:\u001b[0m\u001b[0;34m\u001b[0m\u001b[0m\n",
      "\u001b[0;32m//anaconda/envs/keras_tf/lib/python2.7/site-packages/keras/engine/training.pyc\u001b[0m in \u001b[0;36m_fit_loop\u001b[0;34m(self, f, ins, out_labels, batch_size, epochs, verbose, callbacks, val_f, val_ins, shuffle, callback_metrics, initial_epoch)\u001b[0m\n\u001b[1;32m   1077\u001b[0m                 \u001b[0mbatch_logs\u001b[0m\u001b[0;34m[\u001b[0m\u001b[0;34m'size'\u001b[0m\u001b[0;34m]\u001b[0m \u001b[0;34m=\u001b[0m \u001b[0mlen\u001b[0m\u001b[0;34m(\u001b[0m\u001b[0mbatch_ids\u001b[0m\u001b[0;34m)\u001b[0m\u001b[0;34m\u001b[0m\u001b[0m\n\u001b[1;32m   1078\u001b[0m                 \u001b[0mcallbacks\u001b[0m\u001b[0;34m.\u001b[0m\u001b[0mon_batch_begin\u001b[0m\u001b[0;34m(\u001b[0m\u001b[0mbatch_index\u001b[0m\u001b[0;34m,\u001b[0m \u001b[0mbatch_logs\u001b[0m\u001b[0;34m)\u001b[0m\u001b[0;34m\u001b[0m\u001b[0m\n\u001b[0;32m-> 1079\u001b[0;31m                 \u001b[0mouts\u001b[0m \u001b[0;34m=\u001b[0m \u001b[0mf\u001b[0m\u001b[0;34m(\u001b[0m\u001b[0mins_batch\u001b[0m\u001b[0;34m)\u001b[0m\u001b[0;34m\u001b[0m\u001b[0m\n\u001b[0m\u001b[1;32m   1080\u001b[0m                 \u001b[0;32mif\u001b[0m \u001b[0;32mnot\u001b[0m \u001b[0misinstance\u001b[0m\u001b[0;34m(\u001b[0m\u001b[0mouts\u001b[0m\u001b[0;34m,\u001b[0m \u001b[0mlist\u001b[0m\u001b[0;34m)\u001b[0m\u001b[0;34m:\u001b[0m\u001b[0;34m\u001b[0m\u001b[0m\n\u001b[1;32m   1081\u001b[0m                     \u001b[0mouts\u001b[0m \u001b[0;34m=\u001b[0m \u001b[0;34m[\u001b[0m\u001b[0mouts\u001b[0m\u001b[0;34m]\u001b[0m\u001b[0;34m\u001b[0m\u001b[0m\n",
      "\u001b[0;32m//anaconda/envs/keras_tf/lib/python2.7/site-packages/keras/backend/tensorflow_backend.pyc\u001b[0m in \u001b[0;36m__call__\u001b[0;34m(self, inputs)\u001b[0m\n\u001b[1;32m   2266\u001b[0m         updated = session.run(self.outputs + [self.updates_op],\n\u001b[1;32m   2267\u001b[0m                               \u001b[0mfeed_dict\u001b[0m\u001b[0;34m=\u001b[0m\u001b[0mfeed_dict\u001b[0m\u001b[0;34m,\u001b[0m\u001b[0;34m\u001b[0m\u001b[0m\n\u001b[0;32m-> 2268\u001b[0;31m                               **self.session_kwargs)\n\u001b[0m\u001b[1;32m   2269\u001b[0m         \u001b[0;32mreturn\u001b[0m \u001b[0mupdated\u001b[0m\u001b[0;34m[\u001b[0m\u001b[0;34m:\u001b[0m\u001b[0mlen\u001b[0m\u001b[0;34m(\u001b[0m\u001b[0mself\u001b[0m\u001b[0;34m.\u001b[0m\u001b[0moutputs\u001b[0m\u001b[0;34m)\u001b[0m\u001b[0;34m]\u001b[0m\u001b[0;34m\u001b[0m\u001b[0m\n\u001b[1;32m   2270\u001b[0m \u001b[0;34m\u001b[0m\u001b[0m\n",
      "\u001b[0;32m//anaconda/envs/keras_tf/lib/python2.7/site-packages/tensorflow/python/client/session.pyc\u001b[0m in \u001b[0;36mrun\u001b[0;34m(self, fetches, feed_dict, options, run_metadata)\u001b[0m\n\u001b[1;32m    787\u001b[0m     \u001b[0;32mtry\u001b[0m\u001b[0;34m:\u001b[0m\u001b[0;34m\u001b[0m\u001b[0m\n\u001b[1;32m    788\u001b[0m       result = self._run(None, fetches, feed_dict, options_ptr,\n\u001b[0;32m--> 789\u001b[0;31m                          run_metadata_ptr)\n\u001b[0m\u001b[1;32m    790\u001b[0m       \u001b[0;32mif\u001b[0m \u001b[0mrun_metadata\u001b[0m\u001b[0;34m:\u001b[0m\u001b[0;34m\u001b[0m\u001b[0m\n\u001b[1;32m    791\u001b[0m         \u001b[0mproto_data\u001b[0m \u001b[0;34m=\u001b[0m \u001b[0mtf_session\u001b[0m\u001b[0;34m.\u001b[0m\u001b[0mTF_GetBuffer\u001b[0m\u001b[0;34m(\u001b[0m\u001b[0mrun_metadata_ptr\u001b[0m\u001b[0;34m)\u001b[0m\u001b[0;34m\u001b[0m\u001b[0m\n",
      "\u001b[0;32m//anaconda/envs/keras_tf/lib/python2.7/site-packages/tensorflow/python/client/session.pyc\u001b[0m in \u001b[0;36m_run\u001b[0;34m(self, handle, fetches, feed_dict, options, run_metadata)\u001b[0m\n\u001b[1;32m    995\u001b[0m     \u001b[0;32mif\u001b[0m \u001b[0mfinal_fetches\u001b[0m \u001b[0;32mor\u001b[0m \u001b[0mfinal_targets\u001b[0m\u001b[0;34m:\u001b[0m\u001b[0;34m\u001b[0m\u001b[0m\n\u001b[1;32m    996\u001b[0m       results = self._do_run(handle, final_targets, final_fetches,\n\u001b[0;32m--> 997\u001b[0;31m                              feed_dict_string, options, run_metadata)\n\u001b[0m\u001b[1;32m    998\u001b[0m     \u001b[0;32melse\u001b[0m\u001b[0;34m:\u001b[0m\u001b[0;34m\u001b[0m\u001b[0m\n\u001b[1;32m    999\u001b[0m       \u001b[0mresults\u001b[0m \u001b[0;34m=\u001b[0m \u001b[0;34m[\u001b[0m\u001b[0;34m]\u001b[0m\u001b[0;34m\u001b[0m\u001b[0m\n",
      "\u001b[0;32m//anaconda/envs/keras_tf/lib/python2.7/site-packages/tensorflow/python/client/session.pyc\u001b[0m in \u001b[0;36m_do_run\u001b[0;34m(self, handle, target_list, fetch_list, feed_dict, options, run_metadata)\u001b[0m\n\u001b[1;32m   1130\u001b[0m     \u001b[0;32mif\u001b[0m \u001b[0mhandle\u001b[0m \u001b[0;32mis\u001b[0m \u001b[0mNone\u001b[0m\u001b[0;34m:\u001b[0m\u001b[0;34m\u001b[0m\u001b[0m\n\u001b[1;32m   1131\u001b[0m       return self._do_call(_run_fn, self._session, feed_dict, fetch_list,\n\u001b[0;32m-> 1132\u001b[0;31m                            target_list, options, run_metadata)\n\u001b[0m\u001b[1;32m   1133\u001b[0m     \u001b[0;32melse\u001b[0m\u001b[0;34m:\u001b[0m\u001b[0;34m\u001b[0m\u001b[0m\n\u001b[1;32m   1134\u001b[0m       return self._do_call(_prun_fn, self._session, handle, feed_dict,\n",
      "\u001b[0;32m//anaconda/envs/keras_tf/lib/python2.7/site-packages/tensorflow/python/client/session.pyc\u001b[0m in \u001b[0;36m_do_call\u001b[0;34m(self, fn, *args)\u001b[0m\n\u001b[1;32m   1137\u001b[0m   \u001b[0;32mdef\u001b[0m \u001b[0m_do_call\u001b[0m\u001b[0;34m(\u001b[0m\u001b[0mself\u001b[0m\u001b[0;34m,\u001b[0m \u001b[0mfn\u001b[0m\u001b[0;34m,\u001b[0m \u001b[0;34m*\u001b[0m\u001b[0margs\u001b[0m\u001b[0;34m)\u001b[0m\u001b[0;34m:\u001b[0m\u001b[0;34m\u001b[0m\u001b[0m\n\u001b[1;32m   1138\u001b[0m     \u001b[0;32mtry\u001b[0m\u001b[0;34m:\u001b[0m\u001b[0;34m\u001b[0m\u001b[0m\n\u001b[0;32m-> 1139\u001b[0;31m       \u001b[0;32mreturn\u001b[0m \u001b[0mfn\u001b[0m\u001b[0;34m(\u001b[0m\u001b[0;34m*\u001b[0m\u001b[0margs\u001b[0m\u001b[0;34m)\u001b[0m\u001b[0;34m\u001b[0m\u001b[0m\n\u001b[0m\u001b[1;32m   1140\u001b[0m     \u001b[0;32mexcept\u001b[0m \u001b[0merrors\u001b[0m\u001b[0;34m.\u001b[0m\u001b[0mOpError\u001b[0m \u001b[0;32mas\u001b[0m \u001b[0me\u001b[0m\u001b[0;34m:\u001b[0m\u001b[0;34m\u001b[0m\u001b[0m\n\u001b[1;32m   1141\u001b[0m       \u001b[0mmessage\u001b[0m \u001b[0;34m=\u001b[0m \u001b[0mcompat\u001b[0m\u001b[0;34m.\u001b[0m\u001b[0mas_text\u001b[0m\u001b[0;34m(\u001b[0m\u001b[0me\u001b[0m\u001b[0;34m.\u001b[0m\u001b[0mmessage\u001b[0m\u001b[0;34m)\u001b[0m\u001b[0;34m\u001b[0m\u001b[0m\n",
      "\u001b[0;32m//anaconda/envs/keras_tf/lib/python2.7/site-packages/tensorflow/python/client/session.pyc\u001b[0m in \u001b[0;36m_run_fn\u001b[0;34m(session, feed_dict, fetch_list, target_list, options, run_metadata)\u001b[0m\n\u001b[1;32m   1119\u001b[0m         return tf_session.TF_Run(session, options,\n\u001b[1;32m   1120\u001b[0m                                  \u001b[0mfeed_dict\u001b[0m\u001b[0;34m,\u001b[0m \u001b[0mfetch_list\u001b[0m\u001b[0;34m,\u001b[0m \u001b[0mtarget_list\u001b[0m\u001b[0;34m,\u001b[0m\u001b[0;34m\u001b[0m\u001b[0m\n\u001b[0;32m-> 1121\u001b[0;31m                                  status, run_metadata)\n\u001b[0m\u001b[1;32m   1122\u001b[0m \u001b[0;34m\u001b[0m\u001b[0m\n\u001b[1;32m   1123\u001b[0m     \u001b[0;32mdef\u001b[0m \u001b[0m_prun_fn\u001b[0m\u001b[0;34m(\u001b[0m\u001b[0msession\u001b[0m\u001b[0;34m,\u001b[0m \u001b[0mhandle\u001b[0m\u001b[0;34m,\u001b[0m \u001b[0mfeed_dict\u001b[0m\u001b[0;34m,\u001b[0m \u001b[0mfetch_list\u001b[0m\u001b[0;34m)\u001b[0m\u001b[0;34m:\u001b[0m\u001b[0;34m\u001b[0m\u001b[0m\n",
      "\u001b[0;31mKeyboardInterrupt\u001b[0m: "
     ]
    }
   ],
   "source": [
    "##\n",
    "## BASELINE\n",
    "##\n",
    "from keras.layers import Input, Dense, SimpleRNN, Bidirectional, Dropout\n",
    "from keras.callbacks import ReduceLROnPlateau, CSVLogger\n",
    "from keras.optimizers import Adagrad, adam\n",
    "from keras.models import Model\n",
    "from keras.utils import plot_model\n",
    "\n",
    "# define operating vars\n",
    "optimizer='rmsprop'\n",
    "dropout = 0.5422412690636627\n",
    "activation = \"relu\"\n",
    "batch_size = 50\n",
    "units = 50\n",
    "shuffle = True\n",
    "epochs = 50\n",
    "merge_mode = 'ave'\n",
    "\n",
    "# define any callbacks\n",
    "reduce_lr = ReduceLROnPlateau(monitor='categorical_accuracy', \n",
    "                              factor=0.5,\n",
    "                              patience=1, \n",
    "                              verbose=1)\n",
    "csv_logger = CSVLogger('Keras_BagnallCharacter_SimpleRNN.log')\n",
    "\n",
    "# assemble & compile model\n",
    "main_input = Input(shape=(max_seq_len,unique_chars,))\n",
    "rnn = Bidirectional(SimpleRNN(units=units,\n",
    "                              activation=activation),\n",
    "                    merge_mode=merge_mode)(main_input)\n",
    "drop = Dropout(dropout)(rnn)\n",
    "main_output = Dense(len(labels),\n",
    "                    activation='softmax',\n",
    "                    kernel_initializer='random_uniform')(drop)\n",
    "model = Model(inputs=[main_input], outputs=[main_output])\n",
    "\n",
    "model.compile(loss='categorical_crossentropy', \n",
    "              optimizer=optimizer, \n",
    "              metrics=['categorical_accuracy'])\n",
    "plot_model(model, to_file='Keras_BagnallCharacter_SimpleRNN.png', show_shapes=True, show_layer_names=True)\n",
    "print(model.summary())\n",
    "\n",
    "\n",
    "# train\n",
    "model.fit([np.array(train_X)],\n",
    "          [np.array(train_y)],\n",
    "          batch_size=batch_size,\n",
    "          epochs=epochs,\n",
    "          shuffle=shuffle,\n",
    "          class_weight = y_weights,\n",
    "          callbacks=[reduce_lr, csv_logger],\n",
    "          verbose=1)\n",
    "\n",
    "model.save('Keras_BagnallCharacter_SimpleRNN.h5')\n",
    "print (\"Model saved.\")\n",
    "del model"
   ]
  },
  {
   "cell_type": "code",
   "execution_count": null,
   "metadata": {},
   "outputs": [],
   "source": [
    "# Load computed model\n",
    "from keras.models import load_model\n",
    "# returns a compiled model identical to the one trained\n",
    "model = load_model('Keras_BagnallCharacter_SimpleRNN.h5')\n",
    "print (\"Model re-loaded.\")"
   ]
  },
  {
   "cell_type": "code",
   "execution_count": null,
   "metadata": {
    "collapsed": true
   },
   "outputs": [],
   "source": [
    "from sklearn import metrics\n",
    "\n",
    "# Evaluate performance\n",
    "print \"Evaluating test data...\"\n",
    "loss_and_metrics = model.evaluate(test_X, test_y)\n",
    "print model.metrics_names\n",
    "print loss_and_metrics\n",
    "\n",
    "# Make some predictions\n",
    "print \"\\nPredicting using test data...\"\n",
    "pred_y = model.predict(test_X, batch_size=batch_size, verbose=1)\n",
    "pred_y_collapsed = np.argmax(pred_y, axis=1)\n",
    "test_y_collapsed = np.argmax(test_y, axis=1)\n",
    "print \"\\n\\nDone prediction.\"\n",
    "\n",
    "print \"\\nAUC = \", metrics.roc_auc_score(test_y, pred_y)"
   ]
  },
  {
   "cell_type": "code",
   "execution_count": null,
   "metadata": {
    "collapsed": true
   },
   "outputs": [],
   "source": [
    "# Plot confusion matrix\n",
    "#   from scikit-learn examples @\n",
    "#   http://scikit-learn.org/stable/auto_examples/model_selection/plot_confusion_matrix.html \n",
    "%matplotlib inline\n",
    "import itertools\n",
    "from sklearn.metrics import confusion_matrix\n",
    "import matplotlib.pyplot as plt\n",
    "\n",
    "def plot_confusion_matrix(cm, classes,\n",
    "                          normalize=False,\n",
    "                          title='Confusion matrix',\n",
    "                          cmap=plt.cm.Blues):\n",
    "    \"\"\"\n",
    "    This function prints and plots the confusion matrix.\n",
    "    Normalization can be applied by setting `normalize=True`.\n",
    "    \"\"\"\n",
    "    plt.imshow(cm, interpolation='nearest', cmap=cmap)\n",
    "    plt.title(title)\n",
    "    plt.colorbar()\n",
    "    tick_marks = np.arange(len(classes))\n",
    "    plt.xticks(tick_marks, classes, rotation=90)\n",
    "    plt.yticks(tick_marks, classes)\n",
    "\n",
    "    if normalize:\n",
    "        cm = cm.astype('float') / cm.sum(axis=1)[:, np.newaxis]\n",
    "        print(\"Normalized confusion matrix\")\n",
    "    else:\n",
    "        print('Confusion matrix, without normalization')\n",
    "        print(np.sum(cm,axis=0))\n",
    "\n",
    "    print(cm)\n",
    "\n",
    "    thresh = cm.max() / 2.\n",
    "    for i, j in itertools.product(range(cm.shape[0]), range(cm.shape[1])):\n",
    "        plt.text(j, i, cm[i, j],\n",
    "                 horizontalalignment=\"center\",\n",
    "                 color=\"white\" if cm[i, j] > thresh else \"black\")\n",
    "\n",
    "    #plt.tight_layout()\n",
    "    plt.ylabel('True label')\n",
    "    plt.xlabel('Predicted label')\n",
    "\n",
    "# Compute confusion matrix\n",
    "cnf_matrix = confusion_matrix(test_y_collapsed, pred_y_collapsed)\n",
    "np.set_printoptions(precision=2)\n",
    "\n",
    "# Plot non-normalized confusion matrix\n",
    "plt.figure(figsize=(10,10))\n",
    "plot_confusion_matrix(cnf_matrix, classes=(sorted(labels, key=labels.get)),\n",
    "                      title='Confusion matrix, without normalization')\n",
    "\n",
    "#Plot normalized confusion matrix\n",
    "plt.figure(figsize=(10,10))\n",
    "plot_confusion_matrix(np.round(cnf_matrix,2), classes=(sorted(labels, key=labels.get)), normalize=True,\n",
    "                      title='Normalized confusion matrix')\n",
    "\n",
    "plt.show()"
   ]
  },
  {
   "cell_type": "code",
   "execution_count": null,
   "metadata": {
    "collapsed": true
   },
   "outputs": [],
   "source": [
    "count = 0\n",
    "def reverse_map(map):\n",
    "    return dict((v,k) for k,v in map.iteritems())\n",
    "token_word_map = reverse_map(tokenizer.word_index)\n",
    "president_map = reverse_map(labels)\n",
    "def to_words(a):\n",
    "    return \" \".join([token_word_map[id] for id in a if id != 0])\n",
    "sample_size = 20\n",
    "def print_row(row):\n",
    "    print \"\".join(col.ljust(22) for col in row)\n",
    "print_row([\"Predicted\",\"Correct\",\"Sentence\"])\n",
    "print_row([\"----------\",\"----------\",\"---------------\"])\n",
    "sample = []\n",
    "for i in range(len(test_y_collapsed)):\n",
    "    if (pred_y_collapsed[i] != test_y_collapsed[i] and count < sample_size):\n",
    "        sample += [[president_map[pred_y_collapsed[i]], president_map[test_y_collapsed[i]], to_words(test_X[i])]]\n",
    "        count += 1\n",
    "        \n",
    "for row in sample:\n",
    "    print_row(row)"
   ]
  }
 ],
 "metadata": {
  "anaconda-cloud": {},
  "kernelspec": {
   "display_name": "Python 2",
   "language": "python",
   "name": "python2"
  },
  "language_info": {
   "codemirror_mode": {
    "name": "ipython",
    "version": 2
   },
   "file_extension": ".py",
   "mimetype": "text/x-python",
   "name": "python",
   "nbconvert_exporter": "python",
   "pygments_lexer": "ipython2",
   "version": "2.7.13"
  }
 },
 "nbformat": 4,
 "nbformat_minor": 2
}
