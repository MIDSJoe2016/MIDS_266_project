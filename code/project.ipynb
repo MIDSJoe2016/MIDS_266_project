{
 "cells": [
  {
   "cell_type": "code",
   "execution_count": 1,
   "metadata": {
    "collapsed": true
   },
   "outputs": [],
   "source": [
    "import json, os, re, shutil, sys, time\n",
    "import collections, itertools\n",
    "import unittest\n",
    "from IPython.display import display, HTML\n",
    "\n",
    "# NLTK for NLP utils and corpora\n",
    "import nltk\n",
    "\n",
    "# NumPy and TensorFlow\n",
    "import numpy as np\n",
    "import tensorflow as tf\n",
    "assert(tf.__version__.startswith(\"1.\"))\n",
    "\n",
    "# utils.pretty_print_matrix uses Pandas. Configure float format here.\n",
    "import pandas as pd\n",
    "pd.set_option('float_format', lambda f: \"{0:.04f}\".format(f))\n",
    "\n",
    "# Helper libraries\n",
    "from shared_lib import utils, vocabulary, tf_embed_viz\n",
    "\n"
   ]
  },
  {
   "cell_type": "markdown",
   "metadata": {},
   "source": [
    "### Parse data from ../data/processed"
   ]
  },
  {
   "cell_type": "code",
   "execution_count": 2,
   "metadata": {
    "collapsed": false
   },
   "outputs": [
    {
     "name": "stdout",
     "output_type": "stream",
     "text": [
      "Lincoln: vocab length 15975, sents length 2102, words length 66144\n",
      "Trump: vocab length 544, sents length 90, words length 1679\n",
      "Obama: vocab length 15305, sents length 3106, words length 64466\n"
     ]
    }
   ],
   "source": [
    "def get_vocab2(raw):\n",
    "    tokens = nltk.word_tokenize(raw) #.decode(\"utf8\"))\n",
    "    words = [w.lower() for w in tokens]\n",
    "    vocab = sorted(set(words))\n",
    "    sents = nltk.sent_tokenize(raw.lower())\n",
    "    return vocab, sents\n",
    "\n",
    "    \n",
    "def get_vocab(filename):\n",
    "    raw = open(filename).read().decode(\"UTF-8\")\n",
    "    return get_vocab2(raw)\n",
    "\n",
    "dir = '../data/processed/'\n",
    "pres_dict = {}\n",
    "\n",
    "def add_to_dict(president, vocab, sents):\n",
    "    words = list()\n",
    "    for s in sents:\n",
    "        words.extend(nltk.word_tokenize(s))\n",
    "\n",
    "    vocab_, sents_, words_ = pres_dict.get(president, (None, None, None))\n",
    "    if (vocab_ == None):\n",
    "        pres_dict[president] = (vocab, sents, words)\n",
    "    else:\n",
    "        vocab_ += vocab\n",
    "        sents_ += sents\n",
    "        words_.extend(words)\n",
    "        pres_dict[president] = (vocab_, sents_, words_)\n",
    "\n",
    "def print_dict(pres_dict):        \n",
    "    for key in pres_dict.keys():\n",
    "        vocab, sents, words = pres_dict.get(key, (None, None, None))\n",
    "        print \"%s: vocab length %s, sents length %s, words length %s\" % (key, len(vocab), len(sents), len(words))\n",
    "        #print \"Samples: \", sents[-4:]\n",
    "    \n",
    "for filename in os.listdir(dir):\n",
    "    arr = filename.split(\"_\")\n",
    "    president = arr[0]\n",
    "    #vocab, sents = get_vocab(dir + filename)\n",
    "    #add_to_dict(president, vocab, sents)\n",
    "\n",
    "    try:\n",
    "        vocab, sents = get_vocab(dir + filename)\n",
    "        add_to_dict(president, vocab, sents)\n",
    "    except UnicodeDecodeError as err:\n",
    "        print filename, \":\", err\n",
    "        \n",
    "\n",
    "        \n",
    "print_dict(pres_dict)"
   ]
  },
  {
   "cell_type": "markdown",
   "metadata": {},
   "source": [
    "### Parse json data from ../data/unprocessed"
   ]
  },
  {
   "cell_type": "code",
   "execution_count": 3,
   "metadata": {
    "collapsed": false
   },
   "outputs": [
    {
     "name": "stderr",
     "output_type": "stream",
     "text": [
      "/home/thongnbui/anaconda2/lib/python2.7/site-packages/bs4/__init__.py:181: UserWarning: No parser was explicitly specified, so I'm using the best available HTML parser for this system (\"lxml\"). This usually isn't a problem, but if you run this code on another system, or in a different virtual environment, it may use a different parser and behave differently.\n",
      "\n",
      "The code that caused this warning is on line 174 of the file /home/thongnbui/anaconda2/lib/python2.7/runpy.py. To get rid of this warning, change code that looks like this:\n",
      "\n",
      " BeautifulSoup([your markup])\n",
      "\n",
      "to this:\n",
      "\n",
      " BeautifulSoup([your markup], \"lxml\")\n",
      "\n",
      "  markup_type=markup_type))\n"
     ]
    },
    {
     "name": "stdout",
     "output_type": "stream",
     "text": [
      "Lincoln: vocab length 15975, sents length 2102, words length 66144\n",
      "Trump: vocab length 11642, sents length 3657, words length 58709\n",
      "Bush: vocab length 1322, sents length 401, words length 6840\n",
      "Obama: vocab length 237934, sents length 46326, words length 1137458\n"
     ]
    }
   ],
   "source": [
    "from bs4 import BeautifulSoup\n",
    "import re\n",
    "\n",
    "\n",
    "dir = '../data/unprocessed/'\n",
    "\n",
    "for json_file in os.listdir(dir):\n",
    "    json_data=open(dir + json_file)\n",
    "    data = json.load(json_data)\n",
    "    json_data.close()\n",
    "    attrName = 'debate' if 'Debate' in json_file else 'speeches'\n",
    "    for data2 in data[attrName]:\n",
    "        raw = BeautifulSoup(data2['text']).get_text()\n",
    "        # Remove []\n",
    "        raw = re.sub(' \\[.*?\\]',' ', raw, flags=re.DOTALL)\n",
    "        # Remove ()\n",
    "        raw = re.sub(' \\(.*?\\)',' ', raw, flags=re.DOTALL)\n",
    "        if attrName == 'speeches':\n",
    "            # print data2['date'], data2['name'], data2['speaker']#, debate['text'], debate['url'], \n",
    "            # data2['text'] has a lot of htmtl tags in there. We still need to parse it            \n",
    "            # Removing the questions\n",
    "            raw = re.sub(' Q\\..*? The President\\.','',raw, flags=re.DOTALL)\n",
    "            \n",
    "            #print data2['text'][0:200]\n",
    "            #print data2['url']\n",
    "            #print raw\n",
    "            #break\n",
    "            \n",
    "            vocab, sents = get_vocab2(raw)\n",
    "            arr = data2['speaker'].split(' ')\n",
    "            president = arr[len(arr)-1]\n",
    "            #print \"*** %s: %s: new vocab length %s, sents length %s\" % (data2['speaker'], president, len(vocab), len(sents))\n",
    "            # Remove the last few sentences because they are not part of the speech\n",
    "            #print sents[-10:]\n",
    "            sents = sents[:len(sents)-10]\n",
    "            #print sents[-2:]\n",
    "            #print len(sents)\n",
    "            add_to_dict(president, vocab, sents)\n",
    "\n",
    "        ########################################################\n",
    "        # TODO: extract debate data for TRUMP, OBAMA\n",
    "        #elif ('OBAMA' in raw): #('TRUMP' in raw or 'OBAMA' in raw)):\n",
    "        #    print data2['name'] #, raw[0:3000]\n",
    "\n",
    "\n",
    "print_dict(pres_dict)\n"
   ]
  },
  {
   "cell_type": "markdown",
   "metadata": {},
   "source": [
    "#### Set up train and test data"
   ]
  },
  {
   "cell_type": "code",
   "execution_count": 8,
   "metadata": {
    "collapsed": false
   },
   "outputs": [
    {
     "name": "stdout",
     "output_type": "stream",
     "text": [
      "Max number of words: 58700\n",
      "Processing data for Lincoln\n",
      "Processing data for Trump\n",
      "Processing data for Obama\n",
      "140880 (140880, 4) 35220 (35220, 4)\n"
     ]
    }
   ],
   "source": [
    "# Create train and test data set\n",
    "# Number of words used by 1 president\n",
    "def get_train_test(pres_dict, num_words_limit):\n",
    "    print \"Max number of words:\", num_words_limit\n",
    "    president_int = {\"Lincoln\": [1,0,0,0], \"Trump\": [0,1,0,0], \"Bush\": [0,0,1,0], \"Obama\": [0,0,0,1]}\n",
    "\n",
    "    def reshape_y(y):\n",
    "        return np.reshape(y,[len(y),len(y[0])])\n",
    "    \n",
    "    y_train = list()\n",
    "    X_train = list()\n",
    "    y_test = list()\n",
    "    X_test = list()\n",
    "    for key in pres_dict.keys():\n",
    "        vocab, sents, words = pres_dict.get(key, (None, None))\n",
    "        if (len(words) >= num_words_limit):\n",
    "            print \"Processing data for\", key\n",
    "            y = (num_words_limit * [president_int[key]])\n",
    "            #print y\n",
    "            X = words[0:num_words_limit]\n",
    "            #print len(X),len(y)\n",
    "            # train = 80%, test = 20%\n",
    "            train_len = int(num_words_limit * 0.8)\n",
    "            y_train += y[0:train_len]\n",
    "            X_train += X[0:train_len]\n",
    "            y_test += y[train_len:]\n",
    "            X_test += X[train_len:]\n",
    "    return reshape_y(y_train), X_train, reshape_y(y_test), X_test\n",
    "\n",
    "y_train, X_train, y_test, X_test = get_train_test(pres_dict, 58700)\n",
    "\n",
    "print len(X_train), y_train.shape, len(X_test), y_test.shape\n",
    "###### Shuffle data?\n",
    "\n",
    "# We are generate new vocab\n",
    "vocab = vocabulary.Vocabulary(X_train + X_test)\n",
    "train_ids = vocab.words_to_ids(X_train)\n",
    "test_ids = vocab.words_to_ids(X_test)\n",
    "\n",
    "#print len(train_ids), len(test_ids),\n",
    "\n",
    "#train_ids = np.array(ids * 10000, dtype=int)\n",
    "#test_ids = np.array(ids * 100, dtype=int)"
   ]
  },
  {
   "cell_type": "code",
   "execution_count": 5,
   "metadata": {
    "collapsed": false
   },
   "outputs": [],
   "source": [
    "#shuffle = np.random.permutation(np.arange(len(train_ids)))\n",
    "#x = [train_ids[i] for i in shuffle]"
   ]
  },
  {
   "cell_type": "code",
   "execution_count": null,
   "metadata": {
    "collapsed": true
   },
   "outputs": [],
   "source": []
  }
 ],
 "metadata": {
  "kernelspec": {
   "display_name": "Python 2",
   "language": "python",
   "name": "python2"
  },
  "language_info": {
   "codemirror_mode": {
    "name": "ipython",
    "version": 2
   },
   "file_extension": ".py",
   "mimetype": "text/x-python",
   "name": "python",
   "nbconvert_exporter": "python",
   "pygments_lexer": "ipython2",
   "version": "2.7.13"
  }
 },
 "nbformat": 4,
 "nbformat_minor": 2
}
