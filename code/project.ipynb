{
 "cells": [
  {
   "cell_type": "code",
   "execution_count": 1,
   "metadata": {
    "collapsed": true
   },
   "outputs": [],
   "source": [
    "import json, os, re, shutil, sys, time\n",
    "import collections, itertools\n",
    "import unittest\n",
    "from IPython.display import display, HTML\n",
    "\n",
    "# NLTK for NLP utils and corpora\n",
    "import nltk\n",
    "\n",
    "# NumPy and TensorFlow\n",
    "import numpy as np\n",
    "import tensorflow as tf\n",
    "assert(tf.__version__.startswith(\"1.\"))\n",
    "\n",
    "# utils.pretty_print_matrix uses Pandas. Configure float format here.\n",
    "import pandas as pd\n",
    "pd.set_option('float_format', lambda f: \"{0:.04f}\".format(f))\n",
    "\n",
    "# Helper libraries\n",
    "#from shared_lib import utils, vocabulary, tf_embed_viz\n",
    "\n"
   ]
  },
  {
   "cell_type": "markdown",
   "metadata": {},
   "source": [
    "### Parse data from ../data/processed"
   ]
  },
  {
   "cell_type": "code",
   "execution_count": 2,
   "metadata": {
    "collapsed": false
   },
   "outputs": [
    {
     "name": "stdout",
     "output_type": "stream",
     "text": [
      "Lincoln: vocab length 15975, sents length 2102\n",
      "Trump: vocab length 544, sents length 90\n",
      "Obama: vocab length 15305, sents length 3106\n"
     ]
    }
   ],
   "source": [
    "def get_vocab2(raw):\n",
    "    tokens = nltk.word_tokenize(raw) #.decode(\"utf8\"))\n",
    "    words = [w.lower() for w in tokens]\n",
    "    vocab = sorted(set(words))\n",
    "    sents = nltk.sent_tokenize(raw.lower())\n",
    "    return vocab, sents\n",
    "\n",
    "    \n",
    "def get_vocab(filename):\n",
    "    raw = open(filename).read().decode(\"UTF-8\")\n",
    "    return get_vocab2(raw)\n",
    "\n",
    "dir = '../data/processed/'\n",
    "pres_dict = {}\n",
    "\n",
    "def add_to_dict(president, vocab, sents):\n",
    "    vocab_, sents_ = pres_dict.get(president, (None, None))\n",
    "    if (vocab_ == None):\n",
    "        pres_dict[president] = (vocab, sents)\n",
    "    else:\n",
    "        vocab_ += vocab\n",
    "        sents_ += sents\n",
    "        pres_dict[president] = (vocab_, sents_)\n",
    "\n",
    "def print_dict(pres_dict):        \n",
    "    for key in pres_dict.keys():\n",
    "        vocab, sents = pres_dict.get(key, (None, None))\n",
    "        print \"%s: vocab length %s, sents length %s\" % (key, len(vocab), len(sents))\n",
    "        #print \"Samples: \", sents[-4:]\n",
    "    \n",
    "for filename in os.listdir(dir):\n",
    "    arr = filename.split(\"_\")\n",
    "    president = arr[0]\n",
    "    #vocab, sents = get_vocab(dir + filename)\n",
    "    #add_to_dict(president, vocab, sents)\n",
    "\n",
    "    try:\n",
    "        vocab, sents = get_vocab(dir + filename)\n",
    "        add_to_dict(president, vocab, sents)\n",
    "    except UnicodeDecodeError as err:\n",
    "        print filename, \":\", err\n",
    "        \n",
    "\n",
    "        \n",
    "print_dict(pres_dict)"
   ]
  },
  {
   "cell_type": "markdown",
   "metadata": {},
   "source": [
    "### Parse json data from ../data/unprocessed"
   ]
  },
  {
   "cell_type": "code",
   "execution_count": 4,
   "metadata": {
    "collapsed": false
   },
   "outputs": [
    {
     "name": "stdout",
     "output_type": "stream",
     "text": [
      "Lincoln: vocab length 15975, sents length 2102\n",
      "Trump: vocab length 22740, sents length 7224\n",
      "Bush: vocab length 2644, sents length 802\n",
      "Obama: vocab length 460563, sents length 89546\n"
     ]
    }
   ],
   "source": [
    "from bs4 import BeautifulSoup\n",
    "import re\n",
    "\n",
    "\n",
    "dir = '../data/unprocessed/'\n",
    "\n",
    "for json_file in os.listdir(dir):\n",
    "    json_data=open(dir + json_file)\n",
    "    data = json.load(json_data)\n",
    "    json_data.close()\n",
    "    attrName = 'debate' if 'Debate' in json_file else 'speeches'\n",
    "    for data2 in data[attrName]:\n",
    "        raw = BeautifulSoup(data2['text']).get_text()\n",
    "        # Remove []\n",
    "        raw = re.sub(' \\[.*?\\]',' ', raw, flags=re.DOTALL)\n",
    "        # Remove ()\n",
    "        raw = re.sub(' \\(.*?\\)',' ', raw, flags=re.DOTALL)\n",
    "        if attrName == 'speeches':\n",
    "            # print data2['date'], data2['name'], data2['speaker']#, debate['text'], debate['url'], \n",
    "            # data2['text'] has a lot of htmtl tags in there. We still need to parse it            \n",
    "            # Removing the questions\n",
    "            raw = re.sub(' Q\\..*? The President\\.','',raw, flags=re.DOTALL)\n",
    "            \n",
    "            #print data2['text'][0:200]\n",
    "            #print data2['url']\n",
    "            #print raw\n",
    "            #break\n",
    "            \n",
    "            vocab, sents = get_vocab2(raw)\n",
    "            arr = data2['speaker'].split(' ')\n",
    "            president = arr[len(arr)-1]\n",
    "            #print \"*** %s: %s: new vocab length %s, sents length %s\" % (data2['speaker'], president, len(vocab), len(sents))\n",
    "            # Remove the last few sentences because they are not part of the speech\n",
    "            #print sents[-10:]\n",
    "            sents = sents[:len(sents)-10]\n",
    "            #print sents[-2:]\n",
    "            #print len(sents)\n",
    "            add_to_dict(president, vocab, sents)\n",
    "\n",
    "        ########################################################\n",
    "        # TODO: extract debate data for TRUMP, OBAMA\n",
    "        #elif ('OBAMA' in raw): #('TRUMP' in raw or 'OBAMA' in raw)):\n",
    "        #    print data2['name'] #, raw[0:3000]\n",
    "\n",
    "\n",
    "print_dict(pres_dict)\n"
   ]
  },
  {
   "cell_type": "code",
   "execution_count": null,
   "metadata": {
    "collapsed": true
   },
   "outputs": [],
   "source": []
  },
  {
   "cell_type": "code",
   "execution_count": null,
   "metadata": {
    "collapsed": true
   },
   "outputs": [],
   "source": []
  }
 ],
 "metadata": {
  "kernelspec": {
   "display_name": "Python 2",
   "language": "python",
   "name": "python2"
  },
  "language_info": {
   "codemirror_mode": {
    "name": "ipython",
    "version": 2
   },
   "file_extension": ".py",
   "mimetype": "text/x-python",
   "name": "python",
   "nbconvert_exporter": "python",
   "pygments_lexer": "ipython2",
   "version": "2.7.13"
  }
 },
 "nbformat": 4,
 "nbformat_minor": 2
}
