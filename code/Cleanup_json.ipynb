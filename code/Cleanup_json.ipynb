{
 "cells": [
  {
   "cell_type": "code",
   "execution_count": 35,
   "metadata": {
    "collapsed": false
   },
   "outputs": [
    {
     "name": "stdout",
     "output_type": "stream",
     "text": [
      "../data/unprocessed/Presidential_News_Confs_(1929-2017).json\n",
      "../data/unprocessed/Presidential_News_Confs_(2009-).json\n",
      "Count = 1717\n"
     ]
    }
   ],
   "source": [
    "import glob, os, json, re, unicodedata\n",
    "from bs4 import BeautifulSoup\n",
    "\n",
    "\n",
    "# load JSON text files; parsing into raw text\n",
    "directory = \"../data/unprocessed/\"\n",
    "#text_dir = \"../data/processed3/\"\n",
    "orig_dir = \"../data/original/\"\n",
    "clean_dir = \"../data/clean/\"\n",
    "\n",
    "count = 0\n",
    "for filename in glob.glob(os.path.join(directory, '*.json')):\n",
    "        json_data=open(filename)\n",
    "        data = json.load(json_data)\n",
    "        print filename\n",
    "        for data2 in data[\"speeches\"]:\n",
    "            speaker = data2['speaker']\n",
    "\n",
    "            if ('News Conference With' not in data2['name']) and ('News Conference with' not in data2['name']) and (' With President ' not in data2['name']):\n",
    "                count += 1\n",
    "\n",
    "                #if (speaker == \"Barack Obama\"):\n",
    "                #    print speaker, data2['name'], data2['date']\n",
    "\n",
    "                name = speaker.split(' ')\n",
    "                \n",
    "                if ('W. Bush' in speaker):\n",
    "                    pres_lastname = 'WBush'\n",
    "                else:\n",
    "                    pres_lastname = name[len(name) - 1]\n",
    "\n",
    "                outfile = format('%s_NewsConf%s_%s.txt' % (pres_lastname, count, data2['date']))\n",
    "                # Remove ' ' and comma\n",
    "                outfile = re.sub('[\\s,\\,]','', outfile, flags=re.DOTALL)\n",
    "                \n",
    "                    \n",
    "                orig_file = open(orig_dir + outfile, 'w')\n",
    "                clean_file = open(clean_dir + outfile, 'w')\n",
    "                # data2['text'] has a lot of htmtl tags in there. We still need to parse it\n",
    "                raw = data2['text']\n",
    "                raw = BeautifulSoup(raw, \"html.parser\").get_text(\" \")\n",
    "                raw = re.sub(u\"\\u2014\",' - ', raw, flags=re.DOTALL)\n",
    "                #if (outfile == 'Roosevelt_NewsConf431_April211942.txt'):\n",
    "                #    print raw #data2['text']\n",
    "\n",
    "                raw = unicodedata.normalize('NFKD', raw).encode('ascii','ignore')\n",
    "\n",
    "\n",
    "                orig_file.write(raw)\n",
    "                orig_file.close()\n",
    "                \n",
    "                \n",
    "                # Remove []\n",
    "                raw = re.sub(' \\[.*?\\]',' ', raw, flags=re.DOTALL)\n",
    "                # Remove ()\n",
    "                raw = re.sub(' \\(.*?\\)',' ', raw, flags=re.DOTALL)\n",
    "                # Removing the questions\n",
    "                raw = re.sub('[A-Z,\\s,\\.]Q\\..*? The President\\.',' ',raw, flags=re.DOTALL)\n",
    "                raw = re.sub('[A-Z,\\s,\\.]Q\\..*?THE PRESIDENT\\.',' ',raw, flags=re.DOTALL)\n",
    "\n",
    "                raw = re.sub('^Q\\..*?THE PRESIDENT[:,;,\\.]',' ',raw, flags=re.DOTALL)\n",
    "                raw = re.sub('[\\s,\\.]Q\\..*?THE PRESIDENT[:,;,\\.]',' ',raw, flags=re.DOTALL)\n",
    "\n",
    "                raw = re.sub('[\\s]Reporter:.*?THE PRESIDENT[:,;,\\.]',' ',raw, flags=re.DOTALL)\n",
    "\n",
    "                raw = re.sub('[\\s]Joseph H\\. Short :.*?THE PRESIDENT[:,;,\\.]',' ',raw, flags=re.DOTALL)\n",
    "                raw = re.sub('[\\s]Mr\\. Short:.*?THE PRESIDENT[:,;,\\.]',' ',raw, flags=re.DOTALL)\n",
    "                raw = re.sub('[\\s]Mr\\. Davis:.*?THE PRESIDENT[:,;,\\.]',' ',raw, flags=re.DOTALL)\n",
    "\n",
    "\n",
    "                raw = re.sub('[\\s]THE PRESIDENT[:,;,\\.]',' ',raw, flags=re.DOTALL)\n",
    "\n",
    "                raw = re.sub('^THE PRESIDENT[:,;,\\.]','',raw, flags=re.DOTALL)\n",
    "                \n",
    "#                print \"writing data to\", outfile\n",
    "                clean_file.write(raw)\n",
    "                clean_file.close()\n",
    "\n",
    "                \n",
    "        json_data.close()\n",
    "print \"Count =\", count\n",
    "\n",
    "                "
   ]
  },
  {
   "cell_type": "markdown",
   "metadata": {
    "collapsed": true
   },
   "source": [
    "### After that, we need to do some more clean up from the unix environment\n",
    "\n",
    "grep -l \"^ Citation:\" *txt | awk '{print \"sed -i -e \\\"/^ Citation/d\\\" \" $1 }' > x\n",
    "\n",
    "./x\n",
    "\n",
    "Remove \"NOTE: ....\":  \n",
    "\n",
    "grep -l \" NOTE: \" *txt | awk '{print \"sed \\\"s/ NOTE:.*//\\\" \" $1 \" > y; mv y \" $1}' > x\n",
    "\n",
    "grep -l \" Note: \" *txt | awk '{print \"sed \\\"s/ Note:.*//\\\" \" $1 \" > y; mv y \" $1}' > x\n",
    "\n",
    "Replace \"\\.\" with newline: grep -l \" \\\\\\. \" *txt | awk '{print \"sed  \\\"s/\\\\\\\\\\\\./\\\\'\\\\\\n'/g\\\" \" $1 \" > x; mv x \" $1}' > z\n",
    "\n",
    "grep -l \"^The President. \" *txt > x\n",
    "cat x | awk '{print \"sed \\\"s/^The President.//g\\\" \" $1 \" > y; mv y \" $1}' > z\n",
    "\n",
    "Remove \"--\": grep -l \"\\-\\- \\-\\-\" *txt | awk '{print \"sed  \\\"s/\\\\-\\\\- \\\\-\\\\-//g\\\" \" $1 \" > x; mv x \" $1}' > z\n"
   ]
  },
  {
   "cell_type": "code",
   "execution_count": null,
   "metadata": {
    "collapsed": true
   },
   "outputs": [],
   "source": []
  }
 ],
 "metadata": {
  "kernelspec": {
   "display_name": "Python 2",
   "language": "python",
   "name": "python2"
  },
  "language_info": {
   "codemirror_mode": {
    "name": "ipython",
    "version": 2
   },
   "file_extension": ".py",
   "mimetype": "text/x-python",
   "name": "python",
   "nbconvert_exporter": "python",
   "pygments_lexer": "ipython2",
   "version": "2.7.13"
  }
 },
 "nbformat": 4,
 "nbformat_minor": 2
}
