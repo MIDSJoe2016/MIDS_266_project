{
 "cells": [
  {
   "cell_type": "code",
   "execution_count": 12,
   "metadata": {},
   "outputs": [
    {
     "name": "stdout",
     "output_type": "stream",
     "text": [
      "Build model...\n",
      "_________________________________________________________________\n",
      "Layer (type)                 Output Shape              Param #   \n",
      "=================================================================\n",
      "embedding_8 (Embedding)      (None, 1500, 128)         2560000   \n",
      "_________________________________________________________________\n",
      "dropout_4 (Dropout)          (None, 1500, 128)         0         \n",
      "_________________________________________________________________\n",
      "simple_rnn_7 (SimpleRNN)     (None, 128)               32896     \n",
      "_________________________________________________________________\n",
      "dense_8 (Dense)              (None, 3)                 387       \n",
      "_________________________________________________________________\n",
      "activation_8 (Activation)    (None, 3)                 0         \n",
      "=================================================================\n",
      "Total params: 2,593,283\n",
      "Trainable params: 2,593,283\n",
      "Non-trainable params: 0\n",
      "_________________________________________________________________\n",
      "None\n",
      "Train on 34 samples, validate on 9 samples\n",
      "Epoch 1/10\n",
      "34/34 [==============================] - 1s - loss: 1.1227 - categorical_accuracy: 0.2941 - val_loss: 1.0644 - val_categorical_accuracy: 0.4444\n",
      "Epoch 2/10\n",
      "34/34 [==============================] - 0s - loss: 1.0480 - categorical_accuracy: 0.5000 - val_loss: 1.0732 - val_categorical_accuracy: 0.4444\n",
      "Epoch 3/10\n",
      "34/34 [==============================] - 0s - loss: 1.0200 - categorical_accuracy: 0.5588 - val_loss: 1.0810 - val_categorical_accuracy: 0.4444\n",
      "Epoch 4/10\n",
      "34/34 [==============================] - 0s - loss: 0.9982 - categorical_accuracy: 0.5588 - val_loss: 1.0908 - val_categorical_accuracy: 0.3333\n",
      "Epoch 5/10\n",
      "34/34 [==============================] - 0s - loss: 0.9408 - categorical_accuracy: 0.7353 - val_loss: 1.1058 - val_categorical_accuracy: 0.3333\n",
      "Epoch 6/10\n",
      "34/34 [==============================] - 0s - loss: 0.8892 - categorical_accuracy: 0.7941 - val_loss: 1.1108 - val_categorical_accuracy: 0.2222\n",
      "Epoch 7/10\n",
      "34/34 [==============================] - 0s - loss: 0.8713 - categorical_accuracy: 0.7941 - val_loss: 1.1268 - val_categorical_accuracy: 0.3333\n",
      "Epoch 8/10\n",
      "34/34 [==============================] - 0s - loss: 0.8322 - categorical_accuracy: 0.7941 - val_loss: 1.1193 - val_categorical_accuracy: 0.2222\n",
      "Epoch 9/10\n",
      "34/34 [==============================] - 0s - loss: 0.7919 - categorical_accuracy: 0.8529 - val_loss: 1.1418 - val_categorical_accuracy: 0.1111\n",
      "Epoch 10/10\n",
      "34/34 [==============================] - 0s - loss: 0.7337 - categorical_accuracy: 0.9412 - val_loss: 1.1503 - val_categorical_accuracy: 0.2222\n"
     ]
    },
    {
     "data": {
      "text/plain": [
       "<keras.callbacks.History at 0x127505b50>"
      ]
     },
     "execution_count": 12,
     "metadata": {},
     "output_type": "execute_result"
    }
   ],
   "source": [
    "#requires NLTK, BeautifulSoup\n",
    "import load_data\n",
    "\n",
    "import glob, os\n",
    "from keras.models import Sequential\n",
    "from keras.layers import Dense, Activation, LSTM, Embedding, SimpleRNN, Dropout\n",
    "from keras.preprocessing.text import Tokenizer, one_hot\n",
    "from keras.preprocessing import sequence\n",
    "from keras.utils import to_categorical\n",
    "\n",
    "tk = Tokenizer(num_words=1000, filters='!\"#$%&()*+,-./:;<=>?@[\\\\]^_`{|}~\\t\\n',\n",
    "               lower=True, split=\" \", char_level=False)\n",
    "\n",
    "labels = {\"Obama\" : 0, \"Lincoln\": 1, \"Trump\": 2}\n",
    "\n",
    "input_text = []\n",
    "input_labels = []\n",
    "directory = \"../data/processed/\"\n",
    "for filename in glob.glob(os.path.join(directory, '*.txt')):\n",
    "    arr = filename.replace(directory,'').split(\"_\")\n",
    "    input_labels = input_labels + [labels[arr[0]]]\n",
    "    input_text = input_text + [open(filename).read().decode(\"UTF-8\").encode(\"ascii\",\"ignore\")] \n",
    "        \n",
    "tk.fit_on_texts(input_text)\n",
    "tk_test = tk.texts_to_sequences(input_text)\n",
    "\n",
    "max_len = 1500\n",
    "x = sequence.pad_sequences(tk_test, maxlen=max_len)\n",
    "y = to_categorical(input_labels)\n",
    "\n",
    "max_features = 20000\n",
    "\n",
    "model = Sequential()\n",
    "print('Build model...')\n",
    "model = Sequential()\n",
    "model.add(Embedding(max_features, 128, input_length=max_len))\n",
    "model.add(Dropout(0.2))\n",
    "model.add(SimpleRNN(128))\n",
    "model.add(Dense(3))\n",
    "model.add(Activation('softmax'))\n",
    "model.compile(loss='categorical_crossentropy', optimizer='SGD',metrics=['categorical_accuracy'])\n",
    "print(model.summary())\n",
    "\n",
    "model.fit(x, y=y, batch_size=50, nb_epoch=10, verbose=1, validation_split=0.2, shuffle=True)\n",
    "\n"
   ]
  },
  {
   "cell_type": "code",
   "execution_count": null,
   "metadata": {
    "collapsed": true
   },
   "outputs": [],
   "source": []
  }
 ],
 "metadata": {
  "kernelspec": {
   "display_name": "Python 2",
   "language": "python",
   "name": "python2"
  },
  "language_info": {
   "codemirror_mode": {
    "name": "ipython",
    "version": 2
   },
   "file_extension": ".py",
   "mimetype": "text/x-python",
   "name": "python",
   "nbconvert_exporter": "python",
   "pygments_lexer": "ipython2",
   "version": "2.7.13"
  }
 },
 "nbformat": 4,
 "nbformat_minor": 2
}
