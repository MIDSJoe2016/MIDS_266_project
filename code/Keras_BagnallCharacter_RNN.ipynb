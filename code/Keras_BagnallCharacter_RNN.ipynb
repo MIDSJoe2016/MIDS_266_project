{
 "cells": [
  {
   "cell_type": "code",
   "execution_count": 1,
   "metadata": {},
   "outputs": [],
   "source": [
    "# Include so results on different machines are (should be) the same.\n",
    "from numpy.random import seed\n",
    "seed(1)\n",
    "\n",
    "from tensorflow import set_random_seed\n",
    "set_random_seed(2)"
   ]
  },
  {
   "cell_type": "code",
   "execution_count": 2,
   "metadata": {},
   "outputs": [
    {
     "name": "stdout",
     "output_type": "stream",
     "text": [
      "[NbConvertApp] Converting notebook Keras_BagnallCharacter_RNN.ipynb to script\n",
      "[NbConvertApp] Writing 12963 bytes to Keras_BagnallCharacter_RNN.py\n"
     ]
    }
   ],
   "source": [
    "!jupyter nbconvert --to script Keras_BagnallCharacter_RNN.ipynb"
   ]
  },
  {
   "cell_type": "code",
   "execution_count": 3,
   "metadata": {},
   "outputs": [
    {
     "name": "stdout",
     "output_type": "stream",
     "text": [
      "Loaded 0 speeches for 0 presidents.\n",
      "Loaded 675 speeches for 4 presidents.\n"
     ]
    }
   ],
   "source": [
    "import glob, os, json, re, unicodedata\n",
    "from bs4 import BeautifulSoup\n",
    "\n",
    "load_verbose = 0\n",
    "loaded_labels = []\n",
    "loaded_text = []\n",
    "presidents = [\n",
    "    \"Barack Obama\",\n",
    "    \"Donald J. Trump\",\n",
    "    \"Dwight D. Eisenhower\",\n",
    "    \"Franklin D. Roosevelt\",\n",
    "    \"George Bush\",\n",
    "    \"George W. Bush\",\n",
    "#     \"Gerald R. Ford\",\n",
    "    \"Harry S. Truman\",\n",
    "#     \"Herbert Hoover\",\n",
    "    \"Jimmy Carter\",\n",
    "    \"John F. Kennedy\",\n",
    "    \"Lyndon B. Johnson\",\n",
    "    \"Richard Nixon\",\n",
    "    \"Ronald Reagan\",\n",
    "    \"William J. Clinton\"\n",
    "]\n",
    "\n",
    "labels = {}\n",
    "for idx, name in enumerate(presidents):\n",
    "    labels[name] = idx\n",
    "\n",
    "# load raw text files straight in, no parsing\n",
    "file_to_label = {\n",
    "    \"Obama\": \"Barack Obama\",\n",
    "    \"Trump\": \"Donald J. Trump\",\n",
    "    \"Eisenhower\": \"Dwight D. Eisenhower\",\n",
    "    \"Roosevelt\": \"Franklin D. Roosevelt\",\n",
    "    \"Bush\": \"George Bush\",\n",
    "    \"WBush\": \"George W. Bush\",\n",
    "#     \"Ford\": \"Gerald R. Ford\",\n",
    "    \"Truman\": \"Harry S. Truman\",\n",
    "#     \"Hoover\": \"Herbert Hoover\",\n",
    "    \"Carter\": \"Jimmy Carter\",\n",
    "    \"Kennedy\": \"John F. Kennedy\",\n",
    "    \"Johnson\": \"Lyndon B. Johnson\",\n",
    "    \"Nixon\": \"Richard Nixon\",\n",
    "    \"Reagan\": \"Ronald Reagan\",\n",
    "    \"Clinton\": \"William J. Clinton\"\n",
    "}\n",
    "\n",
    "directory = \"../data/processed/\"\n",
    "for filename in glob.glob(os.path.join(directory, '*.txt')):\n",
    "    arr = filename.replace(directory,'').split(\"_\")\n",
    "    if any(prefix in arr[0] for prefix in file_to_label.keys()):\n",
    "        loaded_labels = loaded_labels + [labels[file_to_label[arr[0]]]]\n",
    "        raw = open(filename).read().decode(\"UTF-8\").encode(\"ascii\",\"ignore\")\n",
    "        loaded_text = loaded_text + [raw] \n",
    "\n",
    "\n",
    "print \"Loaded\", len(loaded_text), \"speeches for\", len(set(loaded_labels)), \"presidents.\"\n",
    "# processed2 now contains files generated from unprocessed\n",
    "directory = \"../data/processed3/\"\n",
    "for filename in glob.glob(os.path.join(directory, '*.txt')):\n",
    "    arr = filename.replace(directory,'').split(\"_\")\n",
    "    if any(prefix in arr[0] for prefix in file_to_label.keys()):\n",
    "        loaded_labels = loaded_labels + [labels[file_to_label[arr[0]]]]\n",
    "        raw = open(filename).read().decode(\"UTF-8\").encode(\"ascii\",\"ignore\")\n",
    "        loaded_text = loaded_text + [raw] \n",
    "\n",
    "print \"Loaded\", len(loaded_text), \"speeches for\", len(set(loaded_labels)), \"presidents.\""
   ]
  },
  {
   "cell_type": "code",
   "execution_count": 4,
   "metadata": {},
   "outputs": [
    {
     "name": "stdout",
     "output_type": "stream",
     "text": [
      "Replacements complete.\n"
     ]
    }
   ],
   "source": [
    "#\n",
    "# Bagnall 2015 text pre-processing\n",
    "#\n",
    "from string import maketrans\n",
    "import re\n",
    "\n",
    "chars_to_replace = \"[]%!()>=*&_}+\"\n",
    "sub_chars = len(chars_to_replace) * \" \"\n",
    "trantab = maketrans(chars_to_replace, sub_chars)\n",
    "for x in range(0,len(loaded_text)):\n",
    "    # \"Various rare characters that seemed largely equivalent are mapped together...\"\n",
    "    loaded_text[x] = re.sub('`', '\\'', loaded_text[x])\n",
    "    # \"...all digits in all languages are mapped to 7\"\n",
    "    loaded_text[x] = re.sub('[0-9]', '7', loaded_text[x])\n",
    "    # \"...any character with a frequency lower than 1 in 10,000 is discarded.\"\n",
    "    loaded_text[x] = loaded_text[x].translate(trantab)\n",
    "    # \"Runs of whitespace are collapsed into a single space.\"\n",
    "    loaded_text[x] = re.sub(' +', ' ', loaded_text[x])\n",
    "\n",
    "print \"Replacements complete.\""
   ]
  },
  {
   "cell_type": "code",
   "execution_count": 5,
   "metadata": {},
   "outputs": [
    {
     "name": "stdout",
     "output_type": "stream",
     "text": [
      "How many characters of text per president?\n",
      "0  : Franklin D. Roosevelt \t2125347\n",
      "1  : George Bush          \t1928698\n",
      "2  : George W. Bush       \t1767265\n",
      "3  : Harry S. Truman      \t2090674\n",
      "\n",
      "Minimum number of characters per president?\n",
      "1767265\n"
     ]
    }
   ],
   "source": [
    "#\n",
    "# Join all speeches into one massive per president\n",
    "#  for later processing\n",
    "#\n",
    "import numpy as np\n",
    "from scipy import stats\n",
    "from operator import itemgetter\n",
    "from collections import defaultdict\n",
    "\n",
    "compressed_text = [None]*(len(labels))\n",
    "for key, value in sorted(labels.iteritems()):\n",
    "    compressed_text[value] = \"\"\n",
    "    for idx in range(0,len(loaded_text)):\n",
    "        if (loaded_labels[idx] == value):\n",
    "            compressed_text[value] = compressed_text[value] + loaded_text[idx] + \" \"\n",
    "            \n",
    "print \"How many characters of text per president?\"\n",
    "for key, value in sorted(labels.iteritems()):\n",
    "    print str(value).ljust(2), \":\", key.ljust(20), \"\\t\", len(compressed_text[value])\n",
    "\n",
    "label_min_chars = len(min(compressed_text, key=len))\n",
    "print \"\\nMinimum number of characters per president?\"\n",
    "print label_min_chars"
   ]
  },
  {
   "cell_type": "code",
   "execution_count": 6,
   "metadata": {
    "scrolled": true
   },
   "outputs": [
    {
     "name": "stderr",
     "output_type": "stream",
     "text": [
      "Using TensorFlow backend.\n"
     ]
    },
    {
     "name": "stdout",
     "output_type": "stream",
     "text": [
      "Unique char count: 67\n",
      "\n",
      "Chars w/ counts:\n",
      "[(1444061, ' '), (754126, 'e'), (637325, 't'), (488304, 'o'), (470031, 'a'), (438520, 'n'), (408361, 'i'), (349529, 's'), (340851, 'r'), (318116, 'h'), (222857, 'l'), (210482, 'd'), (162874, 'u'), (151914, 'c'), (138211, 'm'), (122666, 'w'), (115372, 'g'), (115213, 'y'), (114610, 'f'), (109982, 'p'), (100621, '.'), (78629, 'b'), (77762, ','), (64604, 'v'), (61553, 'I'), (46525, 'k'), (36065, \"'\"), (29480, '7'), (26757, 'T'), (21869, 'A'), (20204, 'S'), (17754, '\\n'), (16061, 'E'), (15905, '-'), (13769, 'N'), (13481, 'P'), (12692, 'W'), (11281, 'C'), (10212, 'H'), (9828, 'M'), (9113, 'x'), (8900, 'D'), (8451, 'R'), (8338, 'q'), (7944, 'B'), (7396, 'j'), (6312, ':'), (6130, '\"'), (6106, 'G'), (5989, '?'), (5161, 'Y'), (4450, 'O'), (4310, 'U'), (4021, 'F'), (3728, 'Q'), (3540, 'z'), (3385, 'J'), (3339, ';'), (3176, 'L'), (1434, 'K'), (905, 'V'), (823, '$'), (406, '/'), (118, 'Z'), (44, 'X'), (8, '\\\\')]\n"
     ]
    }
   ],
   "source": [
    "#\n",
    "# Tokenize words into chars\n",
    "#\n",
    "from keras.preprocessing.text import Tokenizer\n",
    "from keras.preprocessing import sequence\n",
    "\n",
    "# Tokenize into characters\n",
    "tokenizer = Tokenizer(char_level=True)\n",
    "tokenizer.fit_on_texts(compressed_text)\n",
    "tokenized_text = tokenizer.texts_to_sequences(compressed_text)\n",
    "\n",
    "# there's an oddity in the encoding for some reason where a len+1 character occurs\n",
    "unique_chars = len(tokenizer.word_counts)+1\n",
    "\n",
    "print \"Unique char count:\", unique_chars\n",
    "print \"\\nChars w/ counts:\"\n",
    "print sorted(((v,k) for k,v in tokenizer.word_counts.iteritems()), reverse=True)"
   ]
  },
  {
   "cell_type": "code",
   "execution_count": 7,
   "metadata": {},
   "outputs": [
    {
     "name": "stdout",
     "output_type": "stream",
     "text": [
      "Sample splits, labels: 158237 158237\n",
      "\n",
      "Original total chars: 7911850\n"
     ]
    }
   ],
   "source": [
    "#\n",
    "# Split speeches into subsequences \n",
    "#\n",
    "from collections import Counter\n",
    "\n",
    "def splits(_list, _split_size):\n",
    "    output_list = []\n",
    "    for idx in range(0, len(_list), _split_size):\n",
    "        if (idx + _split_size) <= len(_list):\n",
    "            output_list.append(_list[idx:idx + _split_size])\n",
    "    return output_list\n",
    "\n",
    "max_seq_len = 50\n",
    "\n",
    "# create new speech/label holders\n",
    "split_text = []\n",
    "split_labels = []\n",
    "\n",
    "for idx in range(0, len(tokenized_text)):\n",
    "    current_label = idx\n",
    "    current_speech = tokenized_text[idx]#[:label_min_chars]\n",
    "    current_splits = splits(current_speech, max_seq_len)\n",
    "    split_text.extend(current_splits)\n",
    "    split_labels.extend([current_label] * len(current_splits))\n",
    "\n",
    "print \"Sample splits, labels:\", len( split_text ), len( split_labels )\n",
    "print \"\\nOriginal total chars:\", len( split_text ) * max_seq_len\n"
   ]
  },
  {
   "cell_type": "code",
   "execution_count": 8,
   "metadata": {
    "collapsed": true
   },
   "outputs": [],
   "source": [
    "#\n",
    "# split amongst speaker samples, not the whole population of samples\n",
    "#\n",
    "def split_test_train(input_text, input_labels, labels, train_pct=0.8):\n",
    "    train_text = []\n",
    "    train_labels = []\n",
    "    test_text = []\n",
    "    test_labels = []\n",
    "\n",
    "    for key, value in sorted(labels.iteritems()):\n",
    "        # grab all values of a specific label\n",
    "        subset_text = list(itemgetter(*[idx for idx, label in enumerate(input_labels) if label == value ])(input_text))\n",
    "        subset_labels = list(itemgetter(*[idx for idx, label in enumerate(input_labels) if label == value ])(input_labels))\n",
    "        \n",
    "        cut_pos = int(train_pct * len(subset_text))\n",
    "        train_text = train_text + subset_text[:cut_pos]\n",
    "        train_labels = train_labels + subset_labels[:cut_pos]\n",
    "        test_text = test_text + subset_text[cut_pos:]\n",
    "        test_labels = test_labels + subset_labels[cut_pos:]\n",
    "        \n",
    "    return train_text,train_labels,test_text,test_labels"
   ]
  },
  {
   "cell_type": "code",
   "execution_count": 9,
   "metadata": {
    "scrolled": true
   },
   "outputs": [
    {
     "name": "stdout",
     "output_type": "stream",
     "text": [
      "Class weights:\n",
      "[0.9306744930127512, 1.0255684027687761, 1.1192318574055737, 0.9460992992609953]\n",
      "Splits:\n",
      " Test =  126588 \n",
      " Train =  31649\n"
     ]
    }
   ],
   "source": [
    "#\n",
    "# Prep test/train\n",
    "#\n",
    "from sklearn.preprocessing import OneHotEncoder\n",
    "from keras.utils import to_categorical\n",
    "from sklearn.utils import class_weight\n",
    "\n",
    "# compute class weights to account for imbalanced classes\n",
    "y_weights = (class_weight.compute_class_weight('balanced', np.unique(split_labels), split_labels)).tolist()\n",
    "print \"Class weights:\\n\", y_weights\n",
    "\n",
    "# split data smartly\n",
    "train_X, train_y, test_X, test_y = split_test_train(split_text, split_labels, \n",
    "                                                    labels, train_pct=0.8)\n",
    "\n",
    "print \"Splits:\\n Test = \", len(train_X), \"\\n Train = \", len(test_X)\n",
    "\n",
    "# one-hot encode classes\n",
    "train_y = to_categorical(train_y)\n",
    "test_y = to_categorical(test_y)"
   ]
  },
  {
   "cell_type": "code",
   "execution_count": 10,
   "metadata": {
    "scrolled": true
   },
   "outputs": [
    {
     "name": "stdout",
     "output_type": "stream",
     "text": [
      "Encoding train_X with dimensions  (126588, 50)\n",
      "...to  (126588, 3350)\n",
      "...and reshaping to  (126588, 50, 67)\n",
      "\n",
      "Encoding test_X with dimensions  (31649, 50)\n",
      "...to  (31649, 3350)\n",
      "...and reshaping to  (31649, 50, 67)\n"
     ]
    }
   ],
   "source": [
    "#\n",
    "# One-hot encoding samples\n",
    "#\n",
    "from sklearn.preprocessing import OneHotEncoder\n",
    "\n",
    "enc = OneHotEncoder(sparse=False,n_values=unique_chars)\n",
    "\n",
    "train_X = np.array(train_X)\n",
    "print \"Encoding train_X with dimensions \", train_X.shape\n",
    "train_X = enc.fit_transform(train_X)\n",
    "print \"...to \", train_X.shape\n",
    "train_X = np.reshape(train_X,(train_X.shape[0],max_seq_len,unique_chars))\n",
    "print \"...and reshaping to \", train_X.shape\n",
    "\n",
    "test_X = np.array(test_X)\n",
    "print \"\\nEncoding test_X with dimensions \", test_X.shape\n",
    "test_X = enc.transform(test_X)\n",
    "print \"...to \", test_X.shape\n",
    "test_X = np.reshape(test_X,(test_X.shape[0],max_seq_len,unique_chars))\n",
    "print \"...and reshaping to \", test_X.shape\n"
   ]
  },
  {
   "cell_type": "code",
   "execution_count": 11,
   "metadata": {
    "collapsed": true
   },
   "outputs": [],
   "source": [
    "# custom activation from Bagnall 2015\n",
    "#  we were never able to get this to work; either nan'ed or never converged\n",
    "import tensorflow as tf\n",
    "\n",
    "def ReSQRT(x):\n",
    "    cond = tf.less_equal(x, 0)\n",
    "    result = tf.where(cond, x + 0.0, tf.sqrt(x+1)-1)\n",
    "    return result"
   ]
  },
  {
   "cell_type": "markdown",
   "metadata": {
    "collapsed": true
   },
   "source": [
    "Bagnall proposes that the following possible values contribute to the success of the model:\n",
    "\n",
    "| meta-parameter                  \t| typical value                      \t|\n",
    "|---------------------------------\t|------------------------------------\t|\n",
    "| initial adagrad learning scale  \t| 0.1, 0.14, 0.2, 0.3                \t|\n",
    "| initial leakage between classes \t| 1/4N to 5/N                        \t|\n",
    "| leakage decay (per sub-epoch)   \t| 0.67 to 0.9                        \t|\n",
    "| hidden neurons                  \t| 79, 99, 119, 139                   \t|\n",
    "| presynaptic noise σ             \t| 0, 0.1, 0.2, 0.3, 0.5              \t|\n",
    "| sub-epochs                      \t| 6 to 36                            \t|\n",
    "| text direction                  \t| forward or backward                \t|\n",
    "| text handling                   \t| sequential, concatenated, balanced \t|\n",
    "| initialisation                  \t| gaussian, zero                     \t|"
   ]
  },
  {
   "cell_type": "code",
   "execution_count": 12,
   "metadata": {},
   "outputs": [
    {
     "name": "stdout",
     "output_type": "stream",
     "text": [
      "Build model...\n",
      "_________________________________________________________________\n",
      "Layer (type)                 Output Shape              Param #   \n",
      "=================================================================\n",
      "input_1 (InputLayer)         (None, 50, 67)            0         \n",
      "_________________________________________________________________\n",
      "bidirectional_1 (Bidirection (None, 200)               33600     \n",
      "_________________________________________________________________\n",
      "dense_1 (Dense)              (None, 4)                 804       \n",
      "=================================================================\n",
      "Total params: 34,404\n",
      "Trainable params: 34,404\n",
      "Non-trainable params: 0\n",
      "_________________________________________________________________\n",
      "None\n",
      "Epoch 1/50\n",
      "126588/126588 [==============================] - 62s - loss: 1.3575 - categorical_accuracy: 0.3210    \n",
      "Epoch 2/50\n",
      "126588/126588 [==============================] - 61s - loss: 1.1932 - categorical_accuracy: 0.4350    \n",
      "Epoch 3/50\n",
      "126588/126588 [==============================] - 58s - loss: 1.1282 - categorical_accuracy: 0.4841    \n",
      "Epoch 4/50\n",
      "126588/126588 [==============================] - 58s - loss: 1.0537 - categorical_accuracy: 0.5316    \n",
      "Epoch 5/50\n",
      "126588/126588 [==============================] - 58s - loss: 1.0167 - categorical_accuracy: 0.5547    \n",
      "Epoch 6/50\n",
      "126588/126588 [==============================] - 59s - loss: 0.9888 - categorical_accuracy: 0.5705    \n",
      "Epoch 7/50\n",
      "126588/126588 [==============================] - 59s - loss: 0.9673 - categorical_accuracy: 0.5849    \n",
      "Epoch 8/50\n",
      "126588/126588 [==============================] - 60s - loss: 0.9477 - categorical_accuracy: 0.5954    \n",
      "Epoch 9/50\n",
      "126588/126588 [==============================] - 60s - loss: 0.9285 - categorical_accuracy: 0.6064    \n",
      "Epoch 10/50\n",
      "126588/126588 [==============================] - 60s - loss: 0.9139 - categorical_accuracy: 0.6138    \n",
      "Epoch 11/50\n",
      "126588/126588 [==============================] - 60s - loss: 0.9006 - categorical_accuracy: 0.6210    \n",
      "Epoch 12/50\n",
      "126588/126588 [==============================] - 59s - loss: 0.8884 - categorical_accuracy: 0.6281    \n",
      "Epoch 13/50\n",
      "126588/126588 [==============================] - 60s - loss: 0.8796 - categorical_accuracy: 0.6308    \n",
      "Epoch 14/50\n",
      "126588/126588 [==============================] - 67s - loss: 0.8706 - categorical_accuracy: 0.6360    \n",
      "Epoch 15/50\n",
      "126588/126588 [==============================] - 60s - loss: 0.8614 - categorical_accuracy: 0.6396    \n",
      "Epoch 16/50\n",
      "126588/126588 [==============================] - 60s - loss: 0.8535 - categorical_accuracy: 0.6441    \n",
      "Epoch 17/50\n",
      "126588/126588 [==============================] - 61s - loss: 0.8468 - categorical_accuracy: 0.6474    \n",
      "Epoch 18/50\n",
      "126588/126588 [==============================] - 62s - loss: 0.8393 - categorical_accuracy: 0.6517    \n",
      "Epoch 19/50\n",
      "126588/126588 [==============================] - 62s - loss: 0.8342 - categorical_accuracy: 0.6528    \n",
      "Epoch 20/50\n",
      "126588/126588 [==============================] - 62s - loss: 0.8283 - categorical_accuracy: 0.6560    \n",
      "Epoch 21/50\n",
      "126588/126588 [==============================] - 62s - loss: 0.8227 - categorical_accuracy: 0.6598    \n",
      "Epoch 22/50\n",
      "126588/126588 [==============================] - 63s - loss: 0.8180 - categorical_accuracy: 0.6619    \n",
      "Epoch 23/50\n",
      "126588/126588 [==============================] - 65s - loss: 0.8133 - categorical_accuracy: 0.6629    \n",
      "Epoch 24/50\n",
      "126588/126588 [==============================] - 66s - loss: 0.8086 - categorical_accuracy: 0.6658    \n",
      "Epoch 25/50\n",
      "126588/126588 [==============================] - 66s - loss: 0.8040 - categorical_accuracy: 0.6680    \n",
      "Epoch 26/50\n",
      "126588/126588 [==============================] - 66s - loss: 0.8003 - categorical_accuracy: 0.6690    \n",
      "Epoch 27/50\n",
      "126588/126588 [==============================] - 66s - loss: 0.8000 - categorical_accuracy: 0.6705    \n",
      "Epoch 28/50\n",
      "126588/126588 [==============================] - 67s - loss: 0.7937 - categorical_accuracy: 0.6722    \n",
      "Epoch 29/50\n",
      "126588/126588 [==============================] - 66s - loss: 0.7887 - categorical_accuracy: 0.6753    \n",
      "Epoch 30/50\n",
      "126588/126588 [==============================] - 67s - loss: 0.7851 - categorical_accuracy: 0.6772    \n",
      "Epoch 31/50\n",
      "126588/126588 [==============================] - 67s - loss: 0.7822 - categorical_accuracy: 0.6781    \n",
      "Epoch 32/50\n",
      "126588/126588 [==============================] - 64s - loss: 0.7796 - categorical_accuracy: 0.6791     ETA: 0s - loss: 0.7795 - categori\n",
      "Epoch 33/50\n",
      "126588/126588 [==============================] - 69s - loss: 0.7759 - categorical_accuracy: 0.6815    \n",
      "Epoch 34/50\n",
      "126588/126588 [==============================] - 69s - loss: 0.7733 - categorical_accuracy: 0.6822    \n",
      "Epoch 35/50\n",
      "126588/126588 [==============================] - 68s - loss: 0.7699 - categorical_accuracy: 0.6839    \n",
      "Epoch 36/50\n",
      "126588/126588 [==============================] - 68s - loss: 0.7681 - categorical_accuracy: 0.6845    \n",
      "Epoch 37/50\n",
      "126588/126588 [==============================] - 69s - loss: 0.7652 - categorical_accuracy: 0.6865    \n",
      "Epoch 38/50\n",
      "126588/126588 [==============================] - 69s - loss: 0.7619 - categorical_accuracy: 0.6878    \n",
      "Epoch 39/50\n",
      "126588/126588 [==============================] - 69s - loss: 0.7591 - categorical_accuracy: 0.6894    \n",
      "Epoch 40/50\n",
      "126588/126588 [==============================] - 70s - loss: 0.7577 - categorical_accuracy: 0.6898    \n",
      "Epoch 41/50\n",
      "126588/126588 [==============================] - 69s - loss: 0.7557 - categorical_accuracy: 0.6901    \n",
      "Epoch 42/50\n",
      "126588/126588 [==============================] - 66s - loss: 0.7526 - categorical_accuracy: 0.6918    \n",
      "Epoch 43/50\n",
      "126588/126588 [==============================] - 67s - loss: 0.7500 - categorical_accuracy: 0.6933    \n",
      "Epoch 44/50\n",
      "126588/126588 [==============================] - 68s - loss: 0.7479 - categorical_accuracy: 0.6949    \n",
      "Epoch 45/50\n",
      "126588/126588 [==============================] - 64s - loss: 0.7463 - categorical_accuracy: 0.6950    \n",
      "Epoch 46/50\n",
      "126588/126588 [==============================] - 63s - loss: 0.7440 - categorical_accuracy: 0.6967    \n",
      "Epoch 47/50\n",
      "126588/126588 [==============================] - 62s - loss: 0.7429 - categorical_accuracy: 0.6970    \n",
      "Epoch 48/50\n",
      "126588/126588 [==============================] - 63s - loss: 0.7405 - categorical_accuracy: 0.6976    \n",
      "Epoch 49/50\n",
      "126588/126588 [==============================] - 61s - loss: 0.7392 - categorical_accuracy: 0.6981    \n",
      "Epoch 50/50\n",
      "126588/126588 [==============================] - 62s - loss: 0.7372 - categorical_accuracy: 0.6991    \n"
     ]
    }
   ],
   "source": [
    "from keras.models import Model\n",
    "from keras.layers import Input, Dense, SimpleRNN, Dropout, Bidirectional, LSTM\n",
    "from keras.optimizers import Adagrad, adam\n",
    "from keras.callbacks import ReduceLROnPlateau, CSVLogger\n",
    "\n",
    "# define operating vars\n",
    "batch_size = 100\n",
    "epochs = 100\n",
    "\n",
    "# define optimizer\n",
    "optimizer = Adagrad(lr=0.01)\n",
    "\n",
    "# define any callbacks\n",
    "reduce_lr = ReduceLROnPlateau(monitor='categorical_accuracy', factor=0.5,\n",
    "              patience=1, verbose=1)\n",
    "csv_logger = CSVLogger('Keras_BagnallCharacterRNN_training.log')\n",
    "\n",
    "# assemble & compile model\n",
    "print('Build model...')\n",
    "main_input = Input(shape=(max_seq_len,unique_chars,))\n",
    "rnn = Bidirectional(SimpleRNN(units=100,activation='relu'))(main_input)\n",
    "drop = Dropout(0.5)(rnn)\n",
    "main_output = Dense(len(labels),activation='softmax')(rnn)\n",
    "model = Model(inputs=[main_input], outputs=[main_output])\n",
    "\n",
    "model.compile(loss='categorical_crossentropy', \n",
    "              optimizer=optimizer, \n",
    "              metrics=['categorical_accuracy'])\n",
    "print(model.summary())\n",
    "\n",
    "# train\n",
    "model.fit([np.array(train_X)],\n",
    "          [np.array(train_y)],\n",
    "          batch_size=batch_size,\n",
    "          epochs=epochs,\n",
    "          class_weight = y_weights,\n",
    "          callbacks=[reduce_lr, csv_logger],\n",
    "          verbose=1)\n",
    "\n",
    "model.save('Keras_BagnallCharacterRNN_training.h5')  \n",
    "del model"
   ]
  },
  {
   "cell_type": "code",
   "execution_count": 13,
   "metadata": {
    "collapsed": true
   },
   "outputs": [],
   "source": [
    "# Load computed model\n",
    "from keras.models import load_model\n",
    "# returns a compiled model\n",
    "# identical to the previous one\n",
    "model = load_model('Keras_BagnallCharacterRNN_training.h5')"
   ]
  },
  {
   "cell_type": "code",
   "execution_count": 14,
   "metadata": {},
   "outputs": [
    {
     "name": "stdout",
     "output_type": "stream",
     "text": [
      "Evaluating test data...\n",
      "31648/31649 [============================>.] - ETA: 0s['loss', 'categorical_accuracy']\n",
      "[1.0283922451533594, 0.57900723561565925]\n",
      "\n",
      "Predicting using test data...\n",
      "31600/31649 [============================>.] - ETA: 0sDone prediction.\n"
     ]
    }
   ],
   "source": [
    "# Evaluate performance\n",
    "print \"Evaluating test data...\"\n",
    "loss_and_metrics = model.evaluate(test_X, test_y)\n",
    "print model.metrics_names\n",
    "print loss_and_metrics\n",
    "\n",
    "# Make some predictions\n",
    "print \"\\nPredicting using test data...\"\n",
    "pred_y = model.predict(test_X, batch_size=batch_size, verbose=1)\n",
    "pred_y_collapsed = np.argmax(pred_y, axis=1)\n",
    "test_y_collapsed = np.argmax(test_y, axis=1)\n",
    "\n",
    "print \"Done prediction.\""
   ]
  },
  {
   "cell_type": "code",
   "execution_count": 15,
   "metadata": {},
   "outputs": [
    {
     "name": "stdout",
     "output_type": "stream",
     "text": [
      "Confusion matrix, without normalization\n",
      "[9943 5956 5839 9911]\n",
      "[[5389  710  557 1846]\n",
      " [1459 3399 1487 1370]\n",
      " [1532 1311 3534  692]\n",
      " [1563  536  261 6003]]\n",
      "Normalized confusion matrix\n",
      "[[ 0.63  0.08  0.07  0.22]\n",
      " [ 0.19  0.44  0.19  0.18]\n",
      " [ 0.22  0.19  0.5   0.1 ]\n",
      " [ 0.19  0.06  0.03  0.72]]\n"
     ]
    },
    {
     "data": {
      "image/png": "[encoded data removed]",
      "text/plain": [
       "<matplotlib.figure.Figure at 0x12f83cb90>"
      ]
     },
     "metadata": {},
     "output_type": "display_data"
    },
    {
     "data": {
      "image/png": "[encoded data removed]",
      "text/plain": [
       "<matplotlib.figure.Figure at 0x1303113d0>"
      ]
     },
     "metadata": {},
     "output_type": "display_data"
    }
   ],
   "source": [
    "# Plot confusion matrix\n",
    "#   from scikit-learn examples @\n",
    "#   http://scikit-learn.org/stable/auto_examples/model_selection/plot_confusion_matrix.html \n",
    "%matplotlib inline\n",
    "import itertools\n",
    "from sklearn.metrics import confusion_matrix\n",
    "import matplotlib.pyplot as plt\n",
    "\n",
    "def plot_confusion_matrix(cm, classes,\n",
    "                          normalize=False,\n",
    "                          title='Confusion matrix',\n",
    "                          cmap=plt.cm.Blues):\n",
    "    \"\"\"\n",
    "    This function prints and plots the confusion matrix.\n",
    "    Normalization can be applied by setting `normalize=True`.\n",
    "    \"\"\"\n",
    "    plt.imshow(cm, interpolation='nearest', cmap=cmap)\n",
    "    plt.title(title)\n",
    "    plt.colorbar()\n",
    "    tick_marks = np.arange(len(classes))\n",
    "    plt.xticks(tick_marks, classes, rotation=90)\n",
    "    plt.yticks(tick_marks, classes)\n",
    "\n",
    "    if normalize:\n",
    "        cm = cm.astype('float') / cm.sum(axis=1)[:, np.newaxis]\n",
    "        print(\"Normalized confusion matrix\")\n",
    "    else:\n",
    "        print('Confusion matrix, without normalization')\n",
    "        print(np.sum(cm,axis=0))\n",
    "\n",
    "    print(cm)\n",
    "\n",
    "    thresh = cm.max() / 2.\n",
    "    for i, j in itertools.product(range(cm.shape[0]), range(cm.shape[1])):\n",
    "        plt.text(j, i, cm[i, j],\n",
    "                 horizontalalignment=\"center\",\n",
    "                 color=\"white\" if cm[i, j] > thresh else \"black\")\n",
    "\n",
    "    #plt.tight_layout()\n",
    "    plt.ylabel('True label')\n",
    "    plt.xlabel('Predicted label')\n",
    "\n",
    "# Compute confusion matrix\n",
    "cnf_matrix = confusion_matrix(test_y_collapsed, pred_y_collapsed)\n",
    "np.set_printoptions(precision=2)\n",
    "\n",
    "# Plot non-normalized confusion matrix\n",
    "plt.figure(figsize=(10,10))\n",
    "plot_confusion_matrix(cnf_matrix, classes=(sorted(labels, key=labels.get)),\n",
    "                      title='Confusion matrix, without normalization')\n",
    "\n",
    "#Plot normalized confusion matrix\n",
    "plt.figure(figsize=(10,10))\n",
    "plot_confusion_matrix(np.round(cnf_matrix,2), classes=(sorted(labels, key=labels.get)), normalize=True,\n",
    "                      title='Normalized confusion matrix')\n",
    "\n",
    "plt.show()"
   ]
  },
  {
   "cell_type": "code",
   "execution_count": null,
   "metadata": {
    "collapsed": true
   },
   "outputs": [],
   "source": []
  }
 ],
 "metadata": {
  "anaconda-cloud": {},
  "kernelspec": {
   "display_name": "Python [conda env:keras_tf]",
   "language": "python",
   "name": "conda-env-keras_tf-py"
  },
  "language_info": {
   "codemirror_mode": {
    "name": "ipython",
    "version": 2
   },
   "file_extension": ".py",
   "mimetype": "text/x-python",
   "name": "python",
   "nbconvert_exporter": "python",
   "pygments_lexer": "ipython2",
   "version": "2.7.13"
  }
 },
 "nbformat": 4,
 "nbformat_minor": 2
}
