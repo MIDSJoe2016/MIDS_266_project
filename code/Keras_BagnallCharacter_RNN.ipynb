{
 "cells": [
  {
   "cell_type": "code",
   "execution_count": 2,
   "metadata": {},
   "outputs": [
    {
     "name": "stdout",
     "output_type": "stream",
     "text": [
      "Loaded 1750 speeches for 15 presidents.\n"
     ]
    }
   ],
   "source": [
    "import glob, os, json, re, unicodedata\n",
    "from bs4 import BeautifulSoup\n",
    "\n",
    "load_verbose = 0\n",
    "loaded_labels = []\n",
    "loaded_text = []\n",
    "labels = {\"Barack Obama\": 0,\n",
    "          \"Donald J. Trump\": 1,\n",
    "          \"Dwight D. Eisenhower\": 2,\n",
    "          \"Franklin D. Roosevelt\": 3,\n",
    "          \"George Bush\": 4,\n",
    "          \"George W. Bush\": 5,\n",
    "          \"Gerald R. Ford\": 6,\n",
    "          \"Harry S. Truman\": 7,\n",
    "          \"Herbert Hoover\": 8,\n",
    "          \"Jimmy Carter\": 9,\n",
    "          \"John F. Kennedy\": 10,\n",
    "          \"Lyndon B. Johnson\": 11,\n",
    "          \"Richard Nixon\": 12,\n",
    "          \"Ronald Reagan\": 13,\n",
    "          \"William J. Clinton\": 14}\n",
    "\n",
    "# load raw text files straight in, no parsing\n",
    "directory = \"../data/processed/\"\n",
    "file_to_label = {\"Obama\": \"Barack Obama\", \"Trump\": \"Donald J. Trump\"}\n",
    "for filename in glob.glob(os.path.join(directory, '*.txt')):\n",
    "    arr = filename.replace(directory,'').split(\"_\")\n",
    "    loaded_labels = loaded_labels + [labels[file_to_label[arr[0]]]]\n",
    "    raw = open(filename).read().decode(\"UTF-8\").encode(\"ascii\",\"ignore\")\n",
    "    loaded_text = loaded_text + [raw] \n",
    "        \n",
    "# load JSON text files; parsing into raw text\n",
    "directory = \"../data/unprocessed/\"\n",
    "for filename in glob.glob(os.path.join(directory, '*.json')):\n",
    "        json_data=open(filename)\n",
    "        data = json.load(json_data)\n",
    "        json_data.close()\n",
    "        for data2 in data[\"speeches\"]:\n",
    "            if ('News Conference With' not in data2['name']):\n",
    "                # data2['text'] has a lot of htmtl tags in there. We still need to parse it            \n",
    "                raw = BeautifulSoup(data2['text'], \"html.parser\").get_text(\" \")\n",
    "                raw = unicodedata.normalize('NFKD', raw).encode('ascii','ignore')\n",
    "                # Remove []\n",
    "                raw = re.sub(' \\[.*?\\]',' ', raw, flags=re.DOTALL)\n",
    "                # Remove ()\n",
    "                raw = re.sub(' \\(.*?\\)',' ', raw, flags=re.DOTALL)\n",
    "                # Removing the questions\n",
    "                raw = re.sub('[A-Z,\\s,\\.]Q\\..*? The President\\.','\\.',raw, flags=re.DOTALL)\n",
    "                raw = re.sub('^[A-Z,\\s]*THE PRESIDENT\\.','',raw, flags=re.DOTALL)\n",
    "                raw = re.sub('[A-Z,\\s,\\.]Q\\..*?THE PRESIDENT\\.','\\.',raw, flags=re.DOTALL)\n",
    "                \n",
    "                # capture speaker (i.e., label)\n",
    "                speaker = data2['speaker']\n",
    "                \n",
    "                # push speaker and text\n",
    "                if (load_verbose == 1):\n",
    "                    print \"Loading: \", data2['speaker'], \"(\", labels[speaker], \"), \", data2['name']\n",
    "                loaded_labels = loaded_labels + [labels[speaker]] \n",
    "                loaded_text = loaded_text + [raw]\n",
    "\n",
    "print \"Loaded\", len(loaded_text), \"speeches for\", len(set(loaded_labels)), \"presidents.\""
   ]
  },
  {
   "cell_type": "code",
   "execution_count": 3,
   "metadata": {
    "collapsed": true
   },
   "outputs": [],
   "source": [
    "#\n",
    "# Bagnall 2015 text pre-processing\n",
    "#\n",
    "from string import maketrans\n",
    "import re\n",
    "\n",
    "chars_to_replace = \"[]%!()>=*&_\\n\"\n",
    "sub_chars = len(chars_to_replace) * \" \"\n",
    "trantab = maketrans(chars_to_replace, sub_chars)\n",
    "for x in range(0,len(loaded_text)):\n",
    "    #\"Various rare characters that seemed largely equivalent are mapped together...\"\n",
    "    loaded_text[x] = re.sub('`', '', loaded_text[x])\n",
    "    #\"...all digits in all languages are mapped to 7\"\n",
    "    loaded_text[x] = re.sub('[0-9]', '7', loaded_text[x])\n",
    "    #\"...any character with a frequency lower than 1 in 10,000 is discarded.\" (+ \\n)\n",
    "    loaded_text[x] = loaded_text[x].translate(trantab)\n",
    "    #\"Runs of whitespace are collapsed into a single space.\"\n",
    "    loaded_text[x] = re.sub(' +', ' ', loaded_text[x])"
   ]
  },
  {
   "cell_type": "code",
   "execution_count": 4,
   "metadata": {},
   "outputs": [
    {
     "name": "stdout",
     "output_type": "stream",
     "text": [
      "Maximum speech length in characters: 71563\n",
      "Average speech length in characters: 15727\n",
      "Minimum speech length in characters: 240\n"
     ]
    }
   ],
   "source": [
    "#\n",
    "# Summary stats\n",
    "#\n",
    "max_speech_len_char = (len(max(loaded_text, key=len)))\n",
    "average_speech_len_char = sum( map(len, loaded_text) ) / len(loaded_text)\n",
    "min_speech_len_char = min( map(len, loaded_text) ) \n",
    "\n",
    "print \"Maximum speech length in characters:\", max_speech_len_char\n",
    "print \"Average speech length in characters:\",  average_speech_len_char\n",
    "print \"Minimum speech length in characters:\",  min_speech_len_char"
   ]
  },
  {
   "cell_type": "code",
   "execution_count": 5,
   "metadata": {
    "scrolled": true
   },
   "outputs": [
    {
     "name": "stderr",
     "output_type": "stream",
     "text": [
      "//anaconda/envs/keras_tf/lib/python2.7/site-packages/sklearn/cross_validation.py:44: DeprecationWarning: This module was deprecated in version 0.18 in favor of the model_selection module into which all the refactored classes and functions are moved. Also note that the interface of the new CV iterators are different from that of this module. This module will be removed in 0.20.\n",
      "  \"This module will be removed in 0.20.\", DeprecationWarning)\n"
     ]
    },
    {
     "data": {
      "text/plain": [
       "[(4916468, ' '),\n",
       " (2686419, 'e'),\n",
       " (2202084, 't'),\n",
       " (1684121, 'o'),\n",
       " (1663050, 'a'),\n",
       " (1546864, 'n'),\n",
       " (1462636, 'i'),\n",
       " (1244214, 's'),\n",
       " (1215534, 'r'),\n",
       " (1103252, 'h'),\n",
       " (777328, 'l'),\n",
       " (739451, 'd'),\n",
       " (569043, 'u'),\n",
       " (561594, 'c'),\n",
       " (493729, 'm'),\n",
       " (435258, 'w'),\n",
       " (404511, 'f'),\n",
       " (402137, 'g'),\n",
       " (396043, 'p'),\n",
       " (392106, 'y'),\n",
       " (325347, '.'),\n",
       " (291757, 'b'),\n",
       " (277412, ','),\n",
       " (245928, 'v'),\n",
       " (181885, 'I'),\n",
       " (154337, 'k'),\n",
       " (116402, '7'),\n",
       " (100023, \"'\"),\n",
       " (78875, 'A'),\n",
       " (75299, 'T'),\n",
       " (65550, 'S'),\n",
       " (47162, '-'),\n",
       " (44748, 'W'),\n",
       " (42118, 'P'),\n",
       " (41635, 'N'),\n",
       " (41221, 'C'),\n",
       " (37484, 'E'),\n",
       " (34662, 'x'),\n",
       " (34477, '\\\\'),\n",
       " (30788, 'M'),\n",
       " (27464, 'j'),\n",
       " (27288, 'B'),\n",
       " (26570, 'R'),\n",
       " (24436, 'H'),\n",
       " (22821, 'O'),\n",
       " (22289, 'q'),\n",
       " (22235, 'G'),\n",
       " (21898, 'D'),\n",
       " (17962, ':'),\n",
       " (16989, 'U'),\n",
       " (15184, 'F'),\n",
       " (14476, '\"'),\n",
       " (13473, 'L'),\n",
       " (12439, '?'),\n",
       " (12427, 'z'),\n",
       " (11858, 'J'),\n",
       " (10911, 'Y'),\n",
       " (10660, ';'),\n",
       " (8738, '/'),\n",
       " (5427, 'V'),\n",
       " (5271, 'K'),\n",
       " (4764, 'Q'),\n",
       " (4067, '$'),\n",
       " (513, 'Z'),\n",
       " (435, 'X'),\n",
       " (1, '}'),\n",
       " (1, '+')]"
      ]
     },
     "execution_count": 5,
     "metadata": {},
     "output_type": "execute_result"
    }
   ],
   "source": [
    "from sklearn.cross_validation import train_test_split\n",
    "from keras.preprocessing.text import Tokenizer\n",
    "from keras.preprocessing import sequence\n",
    "\n",
    "# Tokenize into characters\n",
    "tokenizer = Tokenizer(char_level=True)\n",
    "tokenizer.fit_on_texts(loaded_text)\n",
    "tokenized_text = tokenizer.texts_to_sequences(loaded_text)\n",
    "\n",
    "sorted(((v,k) for k,v in tokenizer.word_counts.iteritems()), reverse=True)"
   ]
  },
  {
   "cell_type": "code",
   "execution_count": 21,
   "metadata": {},
   "outputs": [
    {
     "name": "stdout",
     "output_type": "stream",
     "text": [
      "274354\n",
      "274354\n"
     ]
    }
   ],
   "source": [
    "def splits(_list, _split_size):\n",
    "    output_list = []\n",
    "    for idx in range(0, len(_list), _split_size):\n",
    "        if (idx + _split_size) <= len(_list):\n",
    "            output_list.append(_list[idx:idx + _split_size])\n",
    "    return output_list\n",
    "\n",
    "max_seq_len = 100\n",
    "\n",
    "# create new speech/label holders\n",
    "split_text = []\n",
    "split_labels = []\n",
    "\n",
    "for idx in range(0, len(tokenized_text)):\n",
    "    current_label = loaded_labels[idx]\n",
    "    current_speech = tokenized_text[idx]\n",
    "    current_splits = splits(current_speech, max_seq_len)\n",
    "    split_text.extend(current_splits)\n",
    "    split_labels.extend([current_label] * len(current_splits))\n",
    "\n",
    "print len( split_text )\n",
    "print len( split_labels )"
   ]
  },
  {
   "cell_type": "code",
   "execution_count": 22,
   "metadata": {},
   "outputs": [
    {
     "name": "stdout",
     "output_type": "stream",
     "text": [
      "Prepared training ( 219483 records) and test ( 54871 records) data sets.\n"
     ]
    }
   ],
   "source": [
    "import numpy as np\n",
    "from keras.utils import to_categorical\n",
    "\n",
    "# note that max sentence length here is char NOT word\n",
    "max_chars = len(tokenizer.word_counts)\n",
    "\n",
    "X = []\n",
    "\n",
    "# reshape split_text to be [samples, time steps, features]\n",
    "X = np.reshape(split_text, (len(split_text), max_seq_len, 1))\n",
    "\n",
    "# one-hot encode classes\n",
    "y = to_categorical(split_labels)\n",
    "\n",
    "train_X, test_X, train_y, test_y = train_test_split(X, y, train_size=0.8, random_state=45)\n",
    "\n",
    "print \"Prepared training (\", len(train_X), \"records) and test (\", len(test_X), \"records) data sets.\""
   ]
  },
  {
   "cell_type": "code",
   "execution_count": 23,
   "metadata": {
    "collapsed": true
   },
   "outputs": [],
   "source": [
    "#custom activation described in Bagnall 2015\n",
    "import tensorflow as tf\n",
    "\n",
    "def ReSQRT(x):\n",
    "    cond = tf.less(x, 0)\n",
    "    result = tf.where(cond, x + 0.0, tf.sqrt(x+1)-1)\n",
    "    return result"
   ]
  },
  {
   "cell_type": "code",
   "execution_count": null,
   "metadata": {
    "scrolled": false
   },
   "outputs": [
    {
     "name": "stdout",
     "output_type": "stream",
     "text": [
      "_________________________________________________________________\n",
      "Layer (type)                 Output Shape              Param #   \n",
      "=================================================================\n",
      "simple_rnn_9 (SimpleRNN)     (None, 200)               40400     \n",
      "_________________________________________________________________\n",
      "dense_9 (Dense)              (None, 15)                3015      \n",
      "=================================================================\n",
      "Total params: 43,415\n",
      "Trainable params: 43,415\n",
      "Non-trainable params: 0\n",
      "_________________________________________________________________\n",
      "None\n",
      "Epoch 1/20\n",
      "  3000/219483 [..............................] - ETA: 187s - loss: 4.0015 - categorical_accuracy: 0.1073"
     ]
    }
   ],
   "source": [
    "from keras.models import Sequential\n",
    "from keras.layers import Dense, Activation, Embedding, SimpleRNN, Dropout, LSTM\n",
    "from keras.optimizers import adagrad, adam, adamax, rmsprop\n",
    "\n",
    "batch_size = 1000\n",
    "epochs = 20\n",
    "\n",
    "model = Sequential()\n",
    "model.add(SimpleRNN(200, activation=\"relu\", input_shape=(train_X.shape[1], train_X.shape[2]), dropout=0.5)) \n",
    "model.add(Dense(15, activation='softmax'))\n",
    "\n",
    "# The network is trained using a variant of adagrad...\n",
    "optimizer = adagrad(lr=0.01)\n",
    "model.compile(loss='categorical_crossentropy', optimizer=optimizer, metrics=['categorical_accuracy'])\n",
    "print(model.summary())\n",
    "\n",
    "model.fit(train_X, y=train_y, batch_size=batch_size, epochs=epochs, verbose=1)\n",
    "\n",
    "# Loss function: \n",
    "# Drop-out: 0\n",
    "# Learning rate: < 0.01\n",
    "# Optimizers: x"
   ]
  },
  {
   "cell_type": "code",
   "execution_count": 98,
   "metadata": {},
   "outputs": [
    {
     "name": "stdout",
     "output_type": "stream",
     "text": [
      "Evaluating test data...\n",
      "160/160 [==============================] - 0s     \n",
      "['loss', 'categorical_accuracy']\n",
      "[3.9829726696014403, 0.03125]\n",
      "\n",
      "Predicting using test data...\n",
      "160/160 [==============================] - 0s     \n",
      "Done prediction.\n"
     ]
    }
   ],
   "source": [
    "# Evaluate performance\n",
    "print \"Evaluating test data...\"\n",
    "loss_and_metrics = model.evaluate(test_X, test_y)\n",
    "print model.metrics_names\n",
    "print loss_and_metrics\n",
    "\n",
    "# Make some predictions\n",
    "print \"\\nPredicting using test data...\"\n",
    "pred_y = model.predict(test_X, batch_size=batch_size, verbose=1)\n",
    "pred_y_collapsed = np.argmax(pred_y, axis=1)\n",
    "test_y_collapsed = np.argmax(test_y, axis=1)\n",
    "\n",
    "print \"Done prediction.\""
   ]
  },
  {
   "cell_type": "code",
   "execution_count": 94,
   "metadata": {},
   "outputs": [
    {
     "name": "stdout",
     "output_type": "stream",
     "text": [
      "Confusion matrix, without normalization\n",
      "[[0 0 1 1 0 0 0 1 0 2 2 0 0 1 3]\n",
      " [1 1 0 1 0 0 0 2 0 0 0 0 0 0 1]\n",
      " [0 0 0 0 0 3 2 0 1 0 3 2 0 0 0]\n",
      " [0 0 1 1 0 2 0 1 0 1 2 1 0 1 1]\n",
      " [5 0 0 2 0 2 2 3 0 0 1 0 0 1 1]\n",
      " [0 0 0 0 0 0 2 0 1 0 1 3 0 0 0]\n",
      " [2 0 1 1 0 1 0 1 0 0 2 1 0 0 1]\n",
      " [0 0 0 0 1 1 0 0 2 1 1 5 1 0 2]\n",
      " [1 0 2 2 1 1 0 2 1 1 0 1 0 0 2]\n",
      " [3 0 0 3 0 0 0 0 2 3 0 1 1 1 0]\n",
      " [0 0 0 2 1 0 0 1 0 0 0 4 0 0 0]\n",
      " [3 0 0 1 0 0 0 0 2 3 0 1 0 0 1]\n",
      " [0 0 3 1 0 0 1 0 0 1 0 0 0 1 1]\n",
      " [0 0 0 2 0 1 1 0 0 1 1 0 1 0 1]\n",
      " [0 0 2 2 0 1 1 1 0 0 1 1 0 0 1]]\n"
     ]
    },
    {
     "data": {
      "image/png": "[encoded data removed]",
      "text/plain": [
       "<matplotlib.figure.Figure at 0x11ff9cc10>"
      ]
     },
     "metadata": {},
     "output_type": "display_data"
    }
   ],
   "source": [
    "# from scikit-learn examples @\n",
    "# http://scikit-learn.org/stable/auto_examples/model_selection/plot_confusion_matrix.html \n",
    "%matplotlib inline\n",
    "import itertools\n",
    "from sklearn.metrics import confusion_matrix\n",
    "import matplotlib.pyplot as plt\n",
    "\n",
    "def plot_confusion_matrix(cm, classes,\n",
    "                          normalize=False,\n",
    "                          title='Confusion matrix',\n",
    "                          cmap=plt.cm.Blues):\n",
    "    \"\"\"\n",
    "    This function prints and plots the confusion matrix.\n",
    "    Normalization can be applied by setting `normalize=True`.\n",
    "    \"\"\"\n",
    "    plt.imshow(cm, interpolation='nearest', cmap=cmap)\n",
    "    plt.title(title)\n",
    "    plt.colorbar()\n",
    "    tick_marks = np.arange(len(classes))\n",
    "    plt.xticks(tick_marks, classes, rotation=90)\n",
    "    plt.yticks(tick_marks, classes)\n",
    "\n",
    "    if normalize:\n",
    "        cm = cm.astype('float') / cm.sum(axis=1)[:, np.newaxis]\n",
    "        print(\"Normalized confusion matrix\")\n",
    "    else:\n",
    "        print('Confusion matrix, without normalization')\n",
    "\n",
    "    print(cm)\n",
    "\n",
    "    thresh = cm.max() / 2.\n",
    "    for i, j in itertools.product(range(cm.shape[0]), range(cm.shape[1])):\n",
    "        plt.text(j, i, cm[i, j],\n",
    "                 horizontalalignment=\"center\",\n",
    "                 color=\"white\" if cm[i, j] > thresh else \"black\")\n",
    "\n",
    "    #plt.tight_layout()\n",
    "    plt.ylabel('True label')\n",
    "    plt.xlabel('Predicted label')\n",
    "\n",
    "# Compute confusion matrix\n",
    "cnf_matrix = confusion_matrix(test_y_collapsed, pred_y_collapsed)\n",
    "np.set_printoptions(precision=2)\n",
    "\n",
    "# Plot non-normalized confusion matrix\n",
    "plt.figure(figsize=(10,10))\n",
    "plot_confusion_matrix(cnf_matrix, classes=(sorted(labels, key=labels.get)),\n",
    "                      title='Confusion matrix, without normalization')\n",
    "\n",
    "# #Plot normalized confusion matrix\n",
    "# plt.figure(figsize=(10,10))\n",
    "# plot_confusion_matrix(cnf_matrix, classes=(sorted(labels, key=labels.get)), normalize=True,\n",
    "#                       title='Normalized confusion matrix')\n",
    "\n",
    "plt.show()"
   ]
  },
  {
   "cell_type": "code",
   "execution_count": null,
   "metadata": {
    "collapsed": true
   },
   "outputs": [],
   "source": []
  }
 ],
 "metadata": {
  "anaconda-cloud": {},
  "kernelspec": {
   "display_name": "Python 2",
   "language": "python",
   "name": "python2"
  },
  "language_info": {
   "codemirror_mode": {
    "name": "ipython",
    "version": 2
   },
   "file_extension": ".py",
   "mimetype": "text/x-python",
   "name": "python",
   "nbconvert_exporter": "python",
   "pygments_lexer": "ipython2",
   "version": "2.7.13"
  }
 },
 "nbformat": 4,
 "nbformat_minor": 2
}
