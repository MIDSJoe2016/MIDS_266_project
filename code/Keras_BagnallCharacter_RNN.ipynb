{
 "cells": [
  {
   "cell_type": "code",
   "execution_count": 30,
   "metadata": {},
   "outputs": [
    {
     "name": "stdout",
     "output_type": "stream",
     "text": [
      "Loaded 25 speeches for 2 presidents.\n",
      "Loaded 1742 speeches for 15 presidents.\n"
     ]
    }
   ],
   "source": [
    "import glob, os, json, re, unicodedata\n",
    "from bs4 import BeautifulSoup\n",
    "\n",
    "load_verbose = 0\n",
    "loaded_labels = []\n",
    "loaded_text = []\n",
    "labels = {\"Barack Obama\": 0,\n",
    "          \"Donald J. Trump\": 1,\n",
    "          \"Dwight D. Eisenhower\": 2,\n",
    "          \"Franklin D. Roosevelt\": 3,\n",
    "          \"George Bush\": 4,\n",
    "          \"George W. Bush\": 5,\n",
    "          \"Gerald R. Ford\": 6,\n",
    "          \"Harry S. Truman\": 7,\n",
    "          \"Herbert Hoover\": 8,\n",
    "          \"Jimmy Carter\": 9,\n",
    "          \"John F. Kennedy\": 10,\n",
    "          \"Lyndon B. Johnson\": 11,\n",
    "          \"Richard Nixon\": 12,\n",
    "          \"Ronald Reagan\": 13,\n",
    "          \"William J. Clinton\": 14}\n",
    "\n",
    "# load raw text files straight in, no parsing\n",
    "file_to_label = {\"Obama\": \"Barack Obama\", \n",
    "                     \"Trump\": \"Donald J. Trump\",\n",
    "                     \"Eisenhower\": \"Dwight D. Eisenhower\",\n",
    "                     \"Roosevelt\": \"Franklin D. Roosevelt\",\n",
    "                     \"Bush\": \"George Bush\",\n",
    "                     \"WBush\": \"George W. Bush\",\n",
    "                     \"Ford\": \"Gerald R. Ford\",\n",
    "                     \"Truman\": \"Harry S. Truman\",\n",
    "                     \"Hoover\": \"Herbert Hoover\",\n",
    "                     \"Carter\": \"Jimmy Carter\",\n",
    "                     \"Kennedy\": \"John F. Kennedy\",\n",
    "                     \"Johnson\": \"Lyndon B. Johnson\",\n",
    "                     \"Nixon\": \"Richard Nixon\",\n",
    "                     \"Reagan\": \"Ronald Reagan\",\n",
    "                     \"Clinton\": \"William J. Clinton\"\n",
    "                    }\n",
    "\n",
    "directory = \"../data/processed/\"\n",
    "for filename in glob.glob(os.path.join(directory, '*.txt')):\n",
    "        arr = filename.replace(directory,'').split(\"_\")\n",
    "        loaded_labels = loaded_labels + [labels[file_to_label[arr[0]]]]\n",
    "        raw = open(filename).read().decode(\"UTF-8\").encode(\"ascii\",\"ignore\")\n",
    "        loaded_text = loaded_text + [raw] \n",
    "\n",
    "print \"Loaded\", len(loaded_text), \"speeches for\", len(set(loaded_labels)), \"presidents.\"\n",
    "# processed2 now contains files generated from unprocessed\n",
    "directory = \"../data/processed3/\"\n",
    "for filename in glob.glob(os.path.join(directory, '*.txt')):\n",
    "        arr = filename.replace(directory,'').split(\"_\")\n",
    "        loaded_labels = loaded_labels + [labels[file_to_label[arr[0]]]]\n",
    "        raw = open(filename).read().decode(\"UTF-8\").encode(\"ascii\",\"ignore\")\n",
    "        loaded_text = loaded_text + [raw] \n",
    "\n",
    "\n",
    "print \"Loaded\", len(loaded_text), \"speeches for\", len(set(loaded_labels)), \"presidents.\""
   ]
  },
  {
   "cell_type": "code",
   "execution_count": 31,
   "metadata": {},
   "outputs": [
    {
     "name": "stdout",
     "output_type": "stream",
     "text": [
      "Replacements complete.\n"
     ]
    }
   ],
   "source": [
    "#\n",
    "# Bagnall 2015 text pre-processing\n",
    "#\n",
    "from string import maketrans\n",
    "import re\n",
    "\n",
    "chars_to_replace = \"[]%!()>=*&_\\n\"\n",
    "sub_chars = len(chars_to_replace) * \" \"\n",
    "trantab = maketrans(chars_to_replace, sub_chars)\n",
    "for x in range(0,len(loaded_text)):\n",
    "    #\"Various rare characters that seemed largely equivalent are mapped together...\"\n",
    "    loaded_text[x] = re.sub('`', '', loaded_text[x])\n",
    "    #\"...all digits in all languages are mapped to 7\"\n",
    "    loaded_text[x] = re.sub('[0-9]', '7', loaded_text[x])\n",
    "    #\"...any character with a frequency lower than 1 in 10,000 is discarded.\" (+ \\n)\n",
    "    loaded_text[x] = loaded_text[x].translate(trantab)\n",
    "    #\"Runs of whitespace are collapsed into a single space.\"\n",
    "    loaded_text[x] = re.sub(' +', ' ', loaded_text[x])\n",
    "\n",
    "print \"Replacements complete.\""
   ]
  },
  {
   "cell_type": "code",
   "execution_count": 32,
   "metadata": {},
   "outputs": [
    {
     "name": "stdout",
     "output_type": "stream",
     "text": [
      "How many characters of text per president?\n",
      "0  : Barack Obama         \t4891166\n",
      "1  : Donald J. Trump      \t445782\n",
      "2  : Dwight D. Eisenhower \t3109439\n",
      "3  : Franklin D. Roosevelt \t2125124\n",
      "4  : George Bush          \t1922344\n",
      "5  : George W. Bush       \t1763481\n",
      "6  : Gerald R. Ford       \t714928\n",
      "7  : Harry S. Truman      \t2066478\n",
      "8  : Herbert Hoover       \t925075\n",
      "9  : Jimmy Carter         \t1294669\n",
      "10 : John F. Kennedy      \t1352086\n",
      "11 : Lyndon B. Johnson    \t2356175\n",
      "12 : Richard Nixon        \t992093\n",
      "13 : Ronald Reagan        \t987802\n",
      "14 : William J. Clinton   \t1762034\n",
      "\n",
      "Minimum number of characters per president?\n",
      "445782\n"
     ]
    }
   ],
   "source": [
    "import numpy as np\n",
    "from scipy import stats\n",
    "from operator import itemgetter\n",
    "from collections import defaultdict\n",
    "\n",
    "# compress all speeches down into one massive per president\n",
    "compressed_text = [None]*(len(labels))\n",
    "for key, value in sorted(labels.iteritems()):\n",
    "    compressed_text[value] = \"\"\n",
    "    for idx in range(0,len(loaded_text)):\n",
    "        if (loaded_labels[idx] == value):\n",
    "            compressed_text[value] = compressed_text[value] + loaded_text[idx] + \" \"\n",
    "            \n",
    "print \"How many characters of text per president?\"\n",
    "for key, value in sorted(labels.iteritems()):\n",
    "    print str(value).ljust(2), \":\", key.ljust(20), \"\\t\", len(compressed_text[value])\n",
    "\n",
    "label_min_chars = len(min(compressed_text, key=len))\n",
    "print \"\\nMinimum number of characters per president?\"\n",
    "print label_min_chars"
   ]
  },
  {
   "cell_type": "code",
   "execution_count": 33,
   "metadata": {
    "scrolled": true
   },
   "outputs": [
    {
     "name": "stdout",
     "output_type": "stream",
     "text": [
      "Unique char count: 67\n",
      "\n",
      "Chars w/ counts:\n",
      "[(4781602, ' '), (2612968, 'e'), (2163313, 't'), (1650322, 'o'), (1630891, 'a'), (1504012, 'n'), (1426968, 'i'), (1212126, 's'), (1176131, 'r'), (1081677, 'h'), (761869, 'l'), (717147, 'd'), (557149, 'u'), (543034, 'c'), (484635, 'm'), (422412, 'w'), (396979, 'g'), (396693, 'f'), (385912, 'p'), (380068, 'y'), (284068, 'b'), (273698, '.'), (268637, ','), (242741, 'v'), (180283, 'I'), (152154, 'k'), (97593, \"'\"), (96524, '7'), (75237, 'A'), (68453, 'T'), (63465, 'S'), (45527, '-'), (42264, 'W'), (39078, 'N'), (36686, 'C'), (36413, 'E'), (34117, 'x'), (32963, 'P'), (29536, 'M'), (26207, 'B'), (25516, 'j'), (25008, 'R'), (23022, 'H'), (21999, 'q'), (20624, 'D'), (20284, 'O'), (19919, 'G'), (16330, 'U'), (14328, 'F'), (12993, 'L'), (12287, ':'), (12082, 'z'), (10928, '\"'), (10783, 'Y'), (10572, '?'), (9734, ';'), (8803, 'J'), (5285, 'V'), (4626, 'K'), (4623, 'Q'), (4063, '$'), (1855, '/'), (585, '\\\\'), (455, 'Z'), (418, 'X'), (1, '}'), (1, '+')]\n"
     ]
    }
   ],
   "source": [
    "from keras.preprocessing.text import Tokenizer\n",
    "from keras.preprocessing import sequence\n",
    "\n",
    "# Tokenize into characters\n",
    "tokenizer = Tokenizer(char_level=True)\n",
    "tokenizer.fit_on_texts(compressed_text)\n",
    "tokenized_text = tokenizer.texts_to_sequences(compressed_text)\n",
    "\n",
    "unique_chars = len(tokenizer.word_counts)\n",
    "\n",
    "print \"Unique char count:\", unique_chars\n",
    "print \"\\nChars w/ counts:\"\n",
    "print sorted(((v,k) for k,v in tokenizer.word_counts.iteritems()), reverse=True)"
   ]
  },
  {
   "cell_type": "code",
   "execution_count": 34,
   "metadata": {},
   "outputs": [
    {
     "name": "stdout",
     "output_type": "stream",
     "text": [
      "Sample, label sizes: 127501 127501\n",
      "\n",
      "Total split groups: 1275 = ( 127501 / 100 )\n"
     ]
    }
   ],
   "source": [
    "#\n",
    "# Split speeches into subsequences \n",
    "#\n",
    "from collections import Counter\n",
    "\n",
    "def splits(_list, _split_size):\n",
    "    output_list = []\n",
    "    for idx in range(0, len(_list), _split_size):\n",
    "        if (idx + _split_size) <= len(_list):\n",
    "            output_list.append(_list[idx:idx + _split_size])\n",
    "    return output_list\n",
    "\n",
    "max_seq_len = 100  \n",
    "label_min_chars = label_min_chars * 2\n",
    "\n",
    "# create new speech/label holders\n",
    "split_text = []\n",
    "split_labels = []\n",
    "\n",
    "for idx in range(0, len(tokenized_text)):\n",
    "    current_label = idx\n",
    "    current_speech = tokenized_text[idx][:label_min_chars]\n",
    "    current_splits = splits(current_speech, max_seq_len)\n",
    "    split_text.extend(current_splits)\n",
    "    split_labels.extend([current_label] * len(current_splits))\n",
    "\n",
    "print \"Sample, label sizes:\", len( split_text ), len( split_labels )\n",
    "split_size = len( split_text ) / max_seq_len\n",
    "print \"\\nTotal split groups:\", split_size, \"= (\",len( split_text ),\"/\",max_seq_len,\")\"\n"
   ]
  },
  {
   "cell_type": "code",
   "execution_count": 35,
   "metadata": {
    "scrolled": true
   },
   "outputs": [
    {
     "name": "stdout",
     "output_type": "stream",
     "text": [
      "X shape =  (127501, 100, 68)\n",
      "y shape =  (127501, 15)\n",
      "\n",
      "Training data shapes:  (102000, 100, 68) (102000, 15)\n",
      "\n",
      "Prepared training ( (102000, 100, 68) records) and test ( (25501, 100, 68) records) data sets.\n"
     ]
    }
   ],
   "source": [
    "#\n",
    "# Encode\n",
    "#\n",
    "from sklearn.preprocessing import OneHotEncoder\n",
    "from keras.utils import to_categorical\n",
    "import numpy as np\n",
    "\n",
    "enc = OneHotEncoder(sparse=False,n_values=unique_chars+1,dtype=np.int)\n",
    "X = np.array(split_text)\n",
    "X = enc.fit_transform(X)\n",
    "X = np.ndarray.reshape(X,(len( split_text ),-1,unique_chars+1))\n",
    "\n",
    "# one-hot encode classes\n",
    "y = to_categorical(split_labels)\n",
    "\n",
    "train_test_split = .8\n",
    "train_pos = int(len(split_text) * train_test_split)\n",
    "train_test_split = np.split(X,[train_pos],axis=0)\n",
    "train_X = train_test_split[0]\n",
    "test_X = train_test_split[1]\n",
    "train_y = y[:train_pos]\n",
    "test_y = y[train_pos:]\n",
    "\n",
    "print \"X shape = \", X.shape\n",
    "print \"y shape = \", y.shape\n",
    "print \"\\nTraining data shapes: \", train_X.shape, train_y.shape\n",
    "print \"\\nPrepared training (\", train_X.shape, \"records) and test (\", test_X.shape, \"records) data sets.\""
   ]
  },
  {
   "cell_type": "code",
   "execution_count": 36,
   "metadata": {
    "collapsed": true
   },
   "outputs": [],
   "source": [
    "# #\n",
    "# # train/test split\n",
    "# #\n",
    "# train_test_split = .8\n",
    "# train_y = test_y = []\n",
    "# train_y = test_X = []\n",
    "# train_pos = int(len(split_text) * train_test_split)\n",
    "\n",
    "# # train_test_split = np.split(X,[train_pos],axis=0)\n",
    "# # train_X = train_test_split[0]\n",
    "# # test_X = train_test_split[1]\n",
    "# # train_y = y[:train_pos]\n",
    "# # test_y = y[train_pos:]\n",
    "\n",
    "# for key, value in sorted(labels.iteritems()):\n",
    "#     # grab all values of a specific label\n",
    "#     subset_text = list(itemgetter(*[idx for idx, label in enumerate(input_labels) if label == value ])(X))\n",
    "#     subset_labels = list(itemgetter(*[idx for idx, label in enumerate(input_labels) if label == value ])(y))\n",
    "\n",
    "#     print subset_text.shape\n",
    "# #     trimmed_text = trimmed_text + subset_text\n",
    "# #     trimmed_labels = trimmed_labels + subset_labels\n",
    "\n",
    "# print \"\\nTraining data shapes: \", train_X.shape, train_y.shape\n",
    "# print \"\\nPrepared training (\", train_X.shape, \"records) and test (\", test_X.shape, \"records) data sets.\"\n"
   ]
  },
  {
   "cell_type": "code",
   "execution_count": 37,
   "metadata": {
    "collapsed": true
   },
   "outputs": [],
   "source": [
    "#custom activation from Bagnall 2015\n",
    "import tensorflow as tf\n",
    "\n",
    "def ReSQRT(x):\n",
    "    cond = tf.less_equal(x, 0)\n",
    "    result = tf.where(cond, x + 0.0, tf.sqrt(x+1)-1)\n",
    "    return result"
   ]
  },
  {
   "cell_type": "code",
   "execution_count": 38,
   "metadata": {
    "scrolled": true
   },
   "outputs": [
    {
     "name": "stdout",
     "output_type": "stream",
     "text": [
      "_________________________________________________________________\n",
      "Layer (type)                 Output Shape              Param #   \n",
      "=================================================================\n",
      "simple_rnn_3 (SimpleRNN)     (None, 100)               16900     \n",
      "_________________________________________________________________\n",
      "dense_3 (Dense)              (None, 15)                1515      \n",
      "=================================================================\n",
      "Total params: 18,415\n",
      "Trainable params: 18,415\n",
      "Non-trainable params: 0\n",
      "_________________________________________________________________\n",
      "None\n",
      "Epoch 1/3\n",
      "102000/102000 [==============================] - 41s - loss: 2.5751 - categorical_accuracy: 0.0862    \n",
      "Epoch 2/3\n",
      "102000/102000 [==============================] - 38s - loss: 2.5163 - categorical_accuracy: 0.0873    \n",
      "Epoch 3/3\n",
      "102000/102000 [==============================] - 37s - loss: 2.5139 - categorical_accuracy: 0.0882    \n"
     ]
    },
    {
     "data": {
      "text/plain": [
       "<keras.callbacks.History at 0x10ad39250>"
      ]
     },
     "execution_count": 38,
     "metadata": {},
     "output_type": "execute_result"
    }
   ],
   "source": [
    "from keras.models import Sequential\n",
    "from keras.layers import Dense, Activation, Embedding, SimpleRNN, Dropout, LSTM\n",
    "from keras.optimizers import adagrad, adam, adamax, rmsprop\n",
    "\n",
    "batch_size = 1000\n",
    "epochs = 3\n",
    "\n",
    "model = Sequential()\n",
    "model.add(SimpleRNN(train_X.shape[1], activation=\"relu\", input_shape=(train_X.shape[1], train_X.shape[2])))\n",
    "#model.add(Dropout(0.5))\n",
    "model.add(Dense(15, activation='softmax'))\n",
    "\n",
    "# The network is trained using a variant of adagrad...\n",
    "optimizer = adagrad(lr=0.001)\n",
    "model.compile(loss='categorical_crossentropy', optimizer=optimizer, metrics=['categorical_accuracy'])\n",
    "print(model.summary())\n",
    "\n",
    "model.fit(train_X, y=train_y, batch_size=batch_size, epochs=epochs, verbose=1)\n",
    "\n",
    "# Loss function: \n",
    "# Drop-out: 0\n",
    "# Learning rate: < 0.01\n",
    "# Optimizers: x"
   ]
  },
  {
   "cell_type": "code",
   "execution_count": 39,
   "metadata": {},
   "outputs": [
    {
     "name": "stdout",
     "output_type": "stream",
     "text": [
      "Evaluating test data...\n",
      "25376/25501 [============================>.] - ETA: 0s['loss', 'categorical_accuracy']\n",
      "[7.1857014527382006, 0.0]\n",
      "\n",
      "Predicting using test data...\n",
      "25501/25501 [==============================] - 5s     \n",
      "Done prediction.\n"
     ]
    }
   ],
   "source": [
    "# Evaluate performance\n",
    "print \"Evaluating test data...\"\n",
    "loss_and_metrics = model.evaluate(test_X, test_y)\n",
    "print model.metrics_names\n",
    "print loss_and_metrics\n",
    "\n",
    "# Make some predictions\n",
    "print \"\\nPredicting using test data...\"\n",
    "pred_y = model.predict(test_X, batch_size=batch_size, verbose=1)\n",
    "pred_y_collapsed = np.argmax(pred_y, axis=1)\n",
    "test_y_collapsed = np.argmax(test_y, axis=1)\n",
    "\n",
    "print \"Done prediction.\""
   ]
  },
  {
   "cell_type": "code",
   "execution_count": 40,
   "metadata": {},
   "outputs": [
    {
     "name": "stdout",
     "output_type": "stream",
     "text": [
      "Confusion matrix, without normalization\n",
      "[[   0    0    0    0    0    0    0    0    0    0    0    0    0    0]\n",
      " [   0    0    0    0    0    0    0    0    0    0    0    0    0    0]\n",
      " [   0    0    0    0    0    0    0    0    0    0    0    0    0    0]\n",
      " [   0    0    0    0    0    0    0    0    0    0    0    0    0    0]\n",
      " [   0    0    0    0    0    0    0    0    0    0    0    0    0    0]\n",
      " [   0    0    0    0    0    0    0    0    0    0    0    0    0    0]\n",
      " [   0    0    0    0    0    0    0    0    0    0    0    0    0    0]\n",
      " [   0    0    0    0    0    0    0    0    0    0    0    0    0    0]\n",
      " [   0    0    0    0    0    0    0    0    0    0    0    0    0    0]\n",
      " [   0    0    0    0    0    0    0    0    0    0    0    0    0    0]\n",
      " [   0    0    0    0    0    0    0    0    0    0    0    0    0    0]\n",
      " [ 565 1239  849  508  788   13  336  589  917  864 1003    0    0    0]\n",
      " [ 596 1517  981  576  915   15  408  656  991 1035 1225    0    0    0]\n",
      " [ 634 1441  928  541  923   16  441  700 1079 1030 1182    0    0    0]]\n"
     ]
    },
    {
     "data": {
      "image/png": "[encoded data removed]",
      "text/plain": [
       "<matplotlib.figure.Figure at 0x119da5950>"
      ]
     },
     "metadata": {},
     "output_type": "display_data"
    }
   ],
   "source": [
    "# from scikit-learn examples @\n",
    "# http://scikit-learn.org/stable/auto_examples/model_selection/plot_confusion_matrix.html \n",
    "%matplotlib inline\n",
    "import itertools\n",
    "from sklearn.metrics import confusion_matrix\n",
    "import matplotlib.pyplot as plt\n",
    "\n",
    "def plot_confusion_matrix(cm, classes,\n",
    "                          normalize=False,\n",
    "                          title='Confusion matrix',\n",
    "                          cmap=plt.cm.Blues):\n",
    "    \"\"\"\n",
    "    This function prints and plots the confusion matrix.\n",
    "    Normalization can be applied by setting `normalize=True`.\n",
    "    \"\"\"\n",
    "    plt.imshow(cm, interpolation='nearest', cmap=cmap)\n",
    "    plt.title(title)\n",
    "    plt.colorbar()\n",
    "    tick_marks = np.arange(len(classes))\n",
    "    plt.xticks(tick_marks, classes, rotation=90)\n",
    "    plt.yticks(tick_marks, classes)\n",
    "\n",
    "    if normalize:\n",
    "        cm = cm.astype('float') / cm.sum(axis=1)[:, np.newaxis]\n",
    "        print(\"Normalized confusion matrix\")\n",
    "    else:\n",
    "        print('Confusion matrix, without normalization')\n",
    "\n",
    "    print(cm)\n",
    "\n",
    "    thresh = cm.max() / 2.\n",
    "    for i, j in itertools.product(range(cm.shape[0]), range(cm.shape[1])):\n",
    "        plt.text(j, i, cm[i, j],\n",
    "                 horizontalalignment=\"center\",\n",
    "                 color=\"white\" if cm[i, j] > thresh else \"black\")\n",
    "\n",
    "    #plt.tight_layout()\n",
    "    plt.ylabel('True label')\n",
    "    plt.xlabel('Predicted label')\n",
    "\n",
    "# Compute confusion matrix\n",
    "cnf_matrix = confusion_matrix(test_y_collapsed, pred_y_collapsed)\n",
    "np.set_printoptions(precision=2)\n",
    "\n",
    "# Plot non-normalized confusion matrix\n",
    "plt.figure(figsize=(10,10))\n",
    "plot_confusion_matrix(cnf_matrix, classes=(sorted(labels, key=labels.get)),\n",
    "                      title='Confusion matrix, without normalization')\n",
    "\n",
    "# #Plot normalized confusion matrix\n",
    "# plt.figure(figsize=(10,10))\n",
    "# plot_confusion_matrix(cnf_matrix, classes=(sorted(labels, key=labels.get)), normalize=True,\n",
    "#                       title='Normalized confusion matrix')\n",
    "\n",
    "plt.show()"
   ]
  }
 ],
 "metadata": {
  "anaconda-cloud": {},
  "kernelspec": {
   "display_name": "Python [conda env:keras_tf]",
   "language": "python",
   "name": "conda-env-keras_tf-py"
  },
  "language_info": {
   "codemirror_mode": {
    "name": "ipython",
    "version": 2
   },
   "file_extension": ".py",
   "mimetype": "text/x-python",
   "name": "python",
   "nbconvert_exporter": "python",
   "pygments_lexer": "ipython2",
   "version": "2.7.13"
  }
 },
 "nbformat": 4,
 "nbformat_minor": 2
}
